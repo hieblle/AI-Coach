{
 "cells": [
  {
   "cell_type": "markdown",
   "metadata": {},
   "source": [
    "# Classification with PyTorch and BERT"
   ]
  },
  {
   "cell_type": "markdown",
   "metadata": {},
   "source": [
    "### Dataset\n",
    "\n",
    "The dataset is the same as in the word-embedding-raw file. But still not yet journal data!!"
   ]
  },
  {
   "cell_type": "markdown",
   "metadata": {},
   "source": [
    "## PyTorch"
   ]
  },
  {
   "cell_type": "code",
   "execution_count": 1,
   "metadata": {},
   "outputs": [
    {
     "data": {
      "text/plain": [
       "'1.10.1+cu102'"
      ]
     },
     "execution_count": 1,
     "metadata": {},
     "output_type": "execute_result"
    }
   ],
   "source": [
    "import torch\n",
    "from torch.utils.data import Dataset, DataLoader\n",
    "from torch.nn import functional as F\n",
    "from torch import nn\n",
    "torch.__version__"
   ]
  },
  {
   "cell_type": "code",
   "execution_count": 2,
   "metadata": {},
   "outputs": [],
   "source": [
    "import csv\n",
    "import re\n",
    "import nltk\n",
    "from nltk.corpus import stopwords\n",
    "from nltk.tokenize import word_tokenize\n",
    "from nltk.stem import WordNetLemmatizer\n",
    "from collections import defaultdict\n",
    "import pandas as pd\n",
    "import numpy as np\n",
    "#nltk.download('omw-1.4')\n",
    "\n",
    "\n",
    "import sklearn"
   ]
  },
  {
   "cell_type": "code",
   "execution_count": 3,
   "metadata": {},
   "outputs": [
    {
     "name": "stdout",
     "output_type": "stream",
     "text": [
      "8400 1800 1800\n"
     ]
    }
   ],
   "source": [
    "size = \"small\"\n",
    "\n",
    "with open(f'nlpwdl2021_data/thedeep.{size}.train.txt', \"r\", encoding=\"utf8\") as csvfile:\n",
    "    train = list(csv.reader(csvfile)) # list of lists with 3 entries: sentence ID, text, label\n",
    "    \n",
    "with open(f'nlpwdl2021_data/thedeep.{size}.test.txt', \"r\", encoding=\"utf8\") as csvfile:\n",
    "    test = list(csv.reader(csvfile))\n",
    "    \n",
    "with open(f'nlpwdl2021_data/thedeep.{size}.validation.txt', \"r\", encoding=\"utf8\") as csvfile:\n",
    "    validation = list(csv.reader(csvfile))\n",
    "    \n",
    "print(len(train), len(test), len(validation))"
   ]
  },
  {
   "cell_type": "markdown",
   "metadata": {},
   "source": [
    "\n",
    "### Preprocessing and Dictionary \n"
   ]
  },
  {
   "cell_type": "code",
   "execution_count": 4,
   "metadata": {},
   "outputs": [],
   "source": [
    "def preprocess_text(text:str=None, return_label:bool=False, label:int=None):\n",
    "    \"\"\"function to preprocess string\n",
    "    returns a list of tokens\n",
    "    \"\"\"\n",
    "    #1 to lowercase\n",
    "    text = text.lower()\n",
    "    \n",
    "    #2 remove all special characters\n",
    "    text = re.sub(r\"\\W\", \" \", text)\n",
    "    \n",
    "    #3 remove single characters with space to the left and right (possessive pronoun)\n",
    "    text = re.sub(r\"\\s+[a-z]\\s+\", \" \", text)\n",
    "    \n",
    "    #4 remove double whitespaces to single space\n",
    "    text = re.sub(' +', ' ', text)\n",
    "    \n",
    "    #5.2 replace numbers\n",
    "    text = re.sub(r'\\d+', '<num>', text)\n",
    "    \n",
    "    #5.3 now count frequncy of <dates> and <num>\n",
    "    count_num, count_dates = text.count(\"<num>\"), text.count(\"<dates>\")\n",
    "    \n",
    "    #5.4 replace it (so that in tokens it does not appear)\n",
    "    text = text.replace(\"<num>\", \"\").replace(\"<dates>\", \"\")\n",
    "    \n",
    "    #6 Stop words and tokenization\n",
    "    stop_words = set(stopwords.words('english'))\n",
    "    tokens = word_tokenize(text)\n",
    "    token_text = [i for i in tokens if not i in stop_words]\n",
    "    \n",
    "    #7 Lemmatization\n",
    "    stemmer = WordNetLemmatizer()\n",
    "    result = [stemmer.lemmatize(word) for word in token_text]\n",
    "    if not return_label:\n",
    "        return result\n",
    "    else:\n",
    "        return result, label\n",
    "\n",
    "def create_dictionary(preprocessed_tokens:list=None):\n",
    "    \"\"\"Creates a word dictionary given a PREPROCESSED text. Returns a sorted dct of all counts and OOV as well as the count list\"\"\"\n",
    "    threshold = 2\n",
    "\n",
    "    count_list = list()\n",
    "    filtered_dict = dict()\n",
    "    out_of_vocabulary = list()\n",
    "    \n",
    "    word_dict = defaultdict(lambda: 0)\n",
    "    for word in preprocessed_tokens:\n",
    "        word_dict[word] += 1\n",
    "    \n",
    "    sorted_dict = {k: v for k, v in sorted(word_dict.items(), key=lambda item:item[1], reverse=True)}\n",
    "    \n",
    "    for key, value in sorted_dict.items():\n",
    "        if value > threshold:\n",
    "            filtered_dict[key] = value\n",
    "        else:\n",
    "            out_of_vocabulary.append(key)\n",
    "\n",
    "        count_list.append(value)\n",
    "    \n",
    "    return sorted_dict, out_of_vocabulary, count_list, list(filtered_dict.values())\n",
    "\n",
    "def merge_tokens(data:list):\n",
    "    \"\"\"\n",
    "    function that preprocesses text and returns two different lists\n",
    "    1. token_list ... used for dictionary to find out threshold value\n",
    "    2. documents ... used for removing oov words\n",
    "    \"\"\"\n",
    "    i = 0\n",
    "    token_list = list() # list with all tokens of all douments [\"word1\", \"word2\", ...]\n",
    "    documents = list() # elements are list of tokens [[doc1 tokens], [doc2 tokens], ...]\n",
    "    \n",
    "    for sample in tqdm(data):\n",
    "        token_list += preprocess_text(sample[1])\n",
    "        documents.append(preprocess_text(sample[1]))\n",
    "        i += 1\n",
    "\n",
    "        \n",
    "    return token_list, documents"
   ]
  },
  {
   "cell_type": "markdown",
   "metadata": {},
   "source": [
    "\n",
    "### Create the Dictionarys"
   ]
  },
  {
   "cell_type": "code",
   "execution_count": 5,
   "metadata": {},
   "outputs": [],
   "source": [
    "text_and_labels_train = {} # contains all dictionarys of documtnts\n",
    "text_and_labels_test = {} \n",
    "text_and_labels_val = {} \n",
    "\n",
    "vocabulary = {}\n",
    "index = 0\n",
    "# get train set\n",
    "for doc in train:\n",
    "    # preprocess text, make dict and cut of tokens (see thresold from create_dictionary function)\n",
    "    pre_text = list(create_dictionary(preprocess_text(doc[1]))[0].keys())\n",
    "    \n",
    "    # add words to vocabulary (and numerate them) if they are not in there already\n",
    "    for word in pre_text:\n",
    "        if word not in vocabulary.keys():\n",
    "            vocabulary[word] = index\n",
    "            index += 1\n",
    "            \n",
    "    # since our padding must be in the range of vocabulary, we need to add it at the end of all words        \n",
    "    vocabulary[\"<PADDING_PLACEHOLDER>\"] = len(vocabulary) - 1\n",
    "    \n",
    "    # assign the id the label and (preprocessed) text, which is a dictionary with the respective threshold\n",
    "    text_and_labels_train[doc[0]] = {\"label\": doc[2], \"tokens\": pre_text}\n",
    "    \n",
    "    \n",
    "    \n",
    "# now with test set\n",
    "for doc in test:\n",
    "    # preprocess text, make dict and cut of tokens (see thresold from create_dictionary function)\n",
    "    pre_text = list(create_dictionary(preprocess_text(doc[1]))[0].keys())\n",
    "    \n",
    "    # assign the id the label and (preprocessed) text, which is a dictionary with the respective threshold\n",
    "    text_and_labels_test[doc[0]] = {\"label\": doc[2], \"tokens\": pre_text}\n",
    "    \n",
    "    \n",
    "# now with validation set\n",
    "for doc in validation:\n",
    "    # preprocess text, make dict and cut of tokens (see thresold from create_dictionary function)\n",
    "    pre_text = list(create_dictionary(preprocess_text(doc[1]))[0].keys())\n",
    "    \n",
    "    # assign the id the label and (preprocessed) text, which is a dictionary with the respective threshold\n",
    "    text_and_labels_val[doc[0]] = {\"label\": doc[2], \"tokens\": pre_text}"
   ]
  },
  {
   "cell_type": "markdown",
   "metadata": {},
   "source": [
    "All datasets stored into dictionarys of the following format:\n",
    "\n",
    "`{ID: {\"label\": <the label of the text>, \"tokens\": <tokens of the text>}}`\n",
    "\n",
    "Important: The tokens are already reduced: out of vocabulary words are removed as well as our cutoff/threshold we set in the function `create_dictionary()`.\n",
    "\n",
    "Also, the variable (dictionary) `vocabulary` now holds all the words in the `train` set, given a number (id) for the later processing into arrays."
   ]
  },
  {
   "cell_type": "markdown",
   "metadata": {},
   "source": [
    "### Data batching "
   ]
  },
  {
   "cell_type": "code",
   "execution_count": 6,
   "metadata": {},
   "outputs": [
    {
     "data": {
      "text/html": [
       "<div>\n",
       "<style scoped>\n",
       "    .dataframe tbody tr th:only-of-type {\n",
       "        vertical-align: middle;\n",
       "    }\n",
       "\n",
       "    .dataframe tbody tr th {\n",
       "        vertical-align: top;\n",
       "    }\n",
       "\n",
       "    .dataframe thead th {\n",
       "        text-align: right;\n",
       "    }\n",
       "</style>\n",
       "<table border=\"1\" class=\"dataframe\">\n",
       "  <thead>\n",
       "    <tr style=\"text-align: right;\">\n",
       "      <th></th>\n",
       "      <th>id</th>\n",
       "      <th>label</th>\n",
       "      <th>tokens</th>\n",
       "    </tr>\n",
       "  </thead>\n",
       "  <tbody>\n",
       "    <tr>\n",
       "      <th>0</th>\n",
       "      <td>7084</td>\n",
       "      <td>11</td>\n",
       "      <td>[drew, close, south, india, combined, reservoi...</td>\n",
       "    </tr>\n",
       "    <tr>\n",
       "      <th>1</th>\n",
       "      <td>8829</td>\n",
       "      <td>3</td>\n",
       "      <td>[humanitarian, food, assistance, derna, supply...</td>\n",
       "    </tr>\n",
       "    <tr>\n",
       "      <th>2</th>\n",
       "      <td>5295</td>\n",
       "      <td>3</td>\n",
       "      <td>[idp, jebel, marra, likely, humanitarian, with...</td>\n",
       "    </tr>\n",
       "    <tr>\n",
       "      <th>3</th>\n",
       "      <td>5619</td>\n",
       "      <td>4</td>\n",
       "      <td>[case, july, total, death, reported, currently...</td>\n",
       "    </tr>\n",
       "    <tr>\n",
       "      <th>4</th>\n",
       "      <td>6717</td>\n",
       "      <td>5</td>\n",
       "      <td>[however, according, last, cadre, harmonis, an...</td>\n",
       "    </tr>\n",
       "    <tr>\n",
       "      <th>...</th>\n",
       "      <td>...</td>\n",
       "      <td>...</td>\n",
       "      <td>...</td>\n",
       "    </tr>\n",
       "    <tr>\n",
       "      <th>1795</th>\n",
       "      <td>696</td>\n",
       "      <td>11</td>\n",
       "      <td>[pokot, ka, resident, west, dire, need, food, ...</td>\n",
       "    </tr>\n",
       "    <tr>\n",
       "      <th>1796</th>\n",
       "      <td>733</td>\n",
       "      <td>4</td>\n",
       "      <td>[south, sudan, malaria, disease, people, toll,...</td>\n",
       "    </tr>\n",
       "    <tr>\n",
       "      <th>1797</th>\n",
       "      <td>132</td>\n",
       "      <td>9</td>\n",
       "      <td>[girl, prostitution, camp, engage, thing, ethi...</td>\n",
       "    </tr>\n",
       "    <tr>\n",
       "      <th>1798</th>\n",
       "      <td>6284</td>\n",
       "      <td>6</td>\n",
       "      <td>[trash, municipal, collection, service, derna,...</td>\n",
       "    </tr>\n",
       "    <tr>\n",
       "      <th>1799</th>\n",
       "      <td>4224</td>\n",
       "      <td>6</td>\n",
       "      <td>[snowfall, resulted, road, blockage, affected,...</td>\n",
       "    </tr>\n",
       "  </tbody>\n",
       "</table>\n",
       "<p>1800 rows × 3 columns</p>\n",
       "</div>"
      ],
      "text/plain": [
       "        id label                                             tokens\n",
       "0     7084    11  [drew, close, south, india, combined, reservoi...\n",
       "1     8829     3  [humanitarian, food, assistance, derna, supply...\n",
       "2     5295     3  [idp, jebel, marra, likely, humanitarian, with...\n",
       "3     5619     4  [case, july, total, death, reported, currently...\n",
       "4     6717     5  [however, according, last, cadre, harmonis, an...\n",
       "...    ...   ...                                                ...\n",
       "1795   696    11  [pokot, ka, resident, west, dire, need, food, ...\n",
       "1796   733     4  [south, sudan, malaria, disease, people, toll,...\n",
       "1797   132     9  [girl, prostitution, camp, engage, thing, ethi...\n",
       "1798  6284     6  [trash, municipal, collection, service, derna,...\n",
       "1799  4224     6  [snowfall, resulted, road, blockage, affected,...\n",
       "\n",
       "[1800 rows x 3 columns]"
      ]
     },
     "execution_count": 6,
     "metadata": {},
     "output_type": "execute_result"
    }
   ],
   "source": [
    "batch_size = 20  \n",
    "max_len = 50  # where to cut off (see datalaoder method)\n",
    "\n",
    "# convert our dicts to panda dataframes\n",
    "train_dataframe = pd.DataFrame.from_dict(text_and_labels_train,orient='index')\n",
    "train_dataframe.index.name = 'id'\n",
    "train_dataframe.reset_index(inplace=True)\n",
    "\n",
    "test_dataframe = pd.DataFrame.from_dict(text_and_labels_test,orient='index')\n",
    "test_dataframe.index.name = 'id'\n",
    "test_dataframe.reset_index(inplace=True)\n",
    "\n",
    "val_dataframe = pd.DataFrame.from_dict(text_and_labels_val,orient='index')\n",
    "val_dataframe.index.name = 'id'\n",
    "val_dataframe.reset_index(inplace=True)\n",
    "\n",
    "val_dataframe"
   ]
  },
  {
   "cell_type": "code",
   "execution_count": 7,
   "metadata": {},
   "outputs": [],
   "source": [
    "class CustomWordDataset(Dataset):\n",
    "    def __init__(self, data):\n",
    "        self.data = data\n",
    "\n",
    "    def __len__(self):\n",
    "        return len(self.data)\n",
    "\n",
    "    def __getitem__(self, idx):\n",
    "        tokens = [vocabulary.get(t) for t in self.data[\"tokens\"][idx][:max_len] if t is not None]\n",
    "        try:\n",
    "            tokens = np.array(tokens, dtype=np.int64)\n",
    "        except:\n",
    "            # in some cases there is None in the array for some reason \n",
    "            tokens = np.array(tokens)\n",
    "            tokens = tokens[tokens != np.array(None)]\n",
    "            # now after filtering None out, make an araay as before \n",
    "            tokens = np.array(tokens, dtype=np.int64)\n",
    "        \n",
    "        # now lets define a mask, to later feed the network with it\n",
    "        m = np.pad(np.ones_like(tokens, dtype=bool), (0, max_len - len(tokens)))\n",
    "        \n",
    "        # finally, pad the array to make sure they all have equal size!\n",
    "        tokens = np.pad(tokens, (0, max_len - len(tokens)),  constant_values=vocabulary[\"<PADDING_PLACEHOLDER>\"] - 1) \n",
    "        \n",
    "        # now return the data itself, the mask, and the labels:\n",
    "        return torch.from_numpy(tokens), torch.from_numpy(m), self.data[\"label\"][idx]"
   ]
  },
  {
   "cell_type": "code",
   "execution_count": 8,
   "metadata": {},
   "outputs": [],
   "source": [
    "train = CustomWordDataset(train_dataframe)\n",
    "test = CustomWordDataset(test_dataframe)\n",
    "validation = CustomWordDataset(val_dataframe)\n",
    "\n",
    "# finally, define the pytorch Dataloaders\n",
    "train_loader = torch.utils.data.DataLoader(\n",
    "    train, \n",
    "    batch_size=batch_size, \n",
    "    shuffle=True\n",
    ")\n",
    "\n",
    "test_loader = torch.utils.data.DataLoader(\n",
    "    test, \n",
    "    batch_size=batch_size, \n",
    "    shuffle=False\n",
    ")\n",
    "\n",
    "validation_loader = torch.utils.data.DataLoader(\n",
    "    validation,\n",
    "    batch_size=batch_size,\n",
    "    shuffle=False,\n",
    ")"
   ]
  },
  {
   "cell_type": "markdown",
   "metadata": {},
   "source": [
    "\n",
    "### Word embedding lookup\n"
   ]
  },
  {
   "cell_type": "code",
   "execution_count": 9,
   "metadata": {},
   "outputs": [],
   "source": [
    "import gensim.downloader as api\n",
    "\n",
    "wv = api.load(\"word2vec-google-news-300\")\n",
    "vecs = wv.get_normed_vectors()"
   ]
  },
  {
   "cell_type": "markdown",
   "metadata": {},
   "source": [
    "Now we create a dictionary `token_embeds`. We will go over all tokens in the `vocabulary`, check if the token is already in the `token_embeds` and if, skip the token. At the end, `token_embeds` will have the structure `{\"word\": <word2vec embedding>, \"word2\": ....}`"
   ]
  },
  {
   "cell_type": "code",
   "execution_count": 10,
   "metadata": {},
   "outputs": [
    {
     "name": "stdout",
     "output_type": "stream",
     "text": [
      "Out of 18575 total tokens, 6650 tokens were not found (35.8%).\n",
      "18573\n"
     ]
    }
   ],
   "source": [
    "not_found = 0\n",
    "token_embeds = {}\n",
    "\n",
    "for token in vocabulary:\n",
    "    if token in token_embeds:\n",
    "        continue\n",
    "    \n",
    "    try:\n",
    "        token_embeds[token] = wv[token]\n",
    "        \n",
    "    except KeyError:\n",
    "        # random embedding\n",
    "        token_embeds[token] = np.random.uniform(low=-1.0, high=1.0, size=(vecs.shape[1]))\n",
    "        not_found += 1\n",
    "\n",
    "print(f\"Out of {len(vocabulary)} total tokens, {not_found} tokens were not found ({round(not_found/len(vocabulary), 4)*100}%).\")\n",
    "#print(list(token_embeds.items())[:1])\n",
    "print(vocabulary[\"<PADDING_PLACEHOLDER>\"] - 1 )"
   ]
  },
  {
   "cell_type": "code",
   "execution_count": 11,
   "metadata": {},
   "outputs": [
    {
     "name": "stdout",
     "output_type": "stream",
     "text": [
      "(18575, 300)\n"
     ]
    }
   ],
   "source": [
    "# convert to matrix\n",
    "wordemb_matrix = np.array([v for k, v in token_embeds.items()])\n",
    "print(wordemb_matrix.shape)"
   ]
  },
  {
   "cell_type": "markdown",
   "metadata": {},
   "source": [
    "\n",
    "### Model definition + forward function\n"
   ]
  },
  {
   "cell_type": "code",
   "execution_count": 12,
   "metadata": {},
   "outputs": [
    {
     "name": "stdout",
     "output_type": "stream",
     "text": [
      "Training on cpu.\n"
     ]
    }
   ],
   "source": [
    "max_length = 256\n",
    "\n",
    "device = torch.device(\"cuda\" if torch.cuda.is_available() else \"cpu\")\n",
    "device = \"cpu\"\n",
    "print(f\"Training on {device}.\") "
   ]
  },
  {
   "cell_type": "code",
   "execution_count": 13,
   "metadata": {},
   "outputs": [],
   "source": [
    "class ClassificationAverageModel(nn.Module):\n",
    "    def __init__(self):\n",
    "        super().__init__()\n",
    "        \n",
    "        self.emb = nn.Embedding(\n",
    "            wordemb_matrix.shape[0], wordemb_matrix.shape[1],\n",
    "            # use the current vectors as weight\n",
    "            _weight=torch.from_numpy(wordemb_matrix).float(),\n",
    "            # We need to use the padding placeholder (must be in vocabulary)\n",
    "            padding_idx=vocabulary[\"<PADDING_PLACEHOLDER>\"] - 1 \n",
    "        )\n",
    "    \n",
    "        # add one linear layer to get the output (We have 12 Labels, see labels.txt)\n",
    "        self.out = nn.Linear(wordemb_matrix.shape[1], 12)\n",
    "        \n",
    "    def forward(self, tokens:np.array=None, mask:np.array=None):\n",
    "        \"\"\"Simple forward function, we use the given formula but now in the network\"\"\"\n",
    "        nnembeding = self.emb(tokens).sum(1) / mask.sum(1, keepdims=True)\n",
    "                \n",
    "        return self.out(nnembeding)"
   ]
  },
  {
   "cell_type": "markdown",
   "metadata": {},
   "source": [
    "\n",
    "### Loss function + Optimization + Early Stopping"
   ]
  },
  {
   "cell_type": "code",
   "execution_count": 14,
   "metadata": {},
   "outputs": [],
   "source": [
    "model = ClassificationAverageModel().to(device)\n",
    "criterion = nn.CrossEntropyLoss()\n",
    "optimizer = torch.optim.AdamW(model.parameters(), lr=0.0009)\n",
    "early_stop_epsilon = 0.005"
   ]
  },
  {
   "cell_type": "code",
   "execution_count": 15,
   "metadata": {},
   "outputs": [],
   "source": [
    "def validation(dataloader:torch.utils.data.DataLoader=None, model=None):\n",
    "    \"\"\"Returns accuracy given datalaoder and the model we have so far. Very similar as in the train loop.\"\"\"\n",
    "    all_predictions = []\n",
    "    all_labels = []\n",
    "    model.eval()\n",
    "\n",
    "    with torch.inference_mode():\n",
    "        for batch in dataloader:\n",
    "            batch = [t.to(device) for t in batch[:2]] + [np.array(batch[2], dtype=int)]\n",
    "        \n",
    "            # labels are not a tensor yet - make them one\n",
    "            tokens, mask, labels = batch\n",
    "            labels = torch.from_numpy(labels).to(device)\n",
    "            \n",
    "            # feed our model the tokens and the mask.\n",
    "            predictions = model(tokens, mask)\n",
    "            \n",
    "            # detach from cpu and store them in our list to later calcualte the accuracy\n",
    "            all_predictions.append(predictions.detach().cpu())\n",
    "            all_labels.append(labels.detach().cpu())\n",
    "\n",
    "        # finaly calcualte accuracy given datalaoder\n",
    "        X = torch.argmax(torch.cat(all_predictions), -1)\n",
    "        y = torch.cat(all_labels)\n",
    "        \n",
    "        # we just look how many items are correctly predicted (we create a array of true false), and then take the mean from the items\n",
    "        return (X == y).to(torch.float32).mean().item()"
   ]
  },
  {
   "cell_type": "code",
   "execution_count": 16,
   "metadata": {},
   "outputs": [
    {
     "name": "stdout",
     "output_type": "stream",
     "text": [
      "Epoch: 0 | Accuracy (validation set): 48.0%\n",
      "Epoch: 1 | Accuracy (validation set): 56.00000000000001%\n",
      "Epoch: 2 | Accuracy (validation set): 60.0%\n",
      "Epoch: 3 | Accuracy (validation set): 62.0%\n",
      "Epoch: 4 | Accuracy (validation set): 62.0%\n",
      "No improvement detected (Epoch 4, tolerance=0.005). Early stopping...\n"
     ]
    }
   ],
   "source": [
    "epochs = 20\n",
    "best_acc = 0\n",
    "improvement = 0\n",
    "all_losses = []\n",
    "prev_validation_accuracy = 999\n",
    "\n",
    "for epoch in torch.arange(epochs):\n",
    "    loss_list = np.zeros((len(train_loader)), dtype=np.float64)\n",
    "    for idx, batch in enumerate(train_loader):\n",
    "        \n",
    "        batch = [t.to(device) for t in batch[:2]] + [np.array(batch[2], dtype=int)]\n",
    "        \n",
    "        # labels are not a tensor yet - make them one\n",
    "        tokens, mask, labels = batch\n",
    "        labels = torch.from_numpy(labels).to(device)\n",
    "        \n",
    "        # since we are training \n",
    "        optimizer.zero_grad()\n",
    "        \n",
    "        # get the predictions\n",
    "        predictions = model(tokens, mask)\n",
    "\n",
    "        loss = criterion(predictions, labels)\n",
    "        \n",
    "        # add loss o list\n",
    "        loss_list[idx] = loss \n",
    "        loss.backward()\n",
    "        optimizer.step()\n",
    "        \n",
    "    # Validation time! \n",
    "    validation_accuracy = validation(validation_loader, model)\n",
    "    print(f\"Epoch: {epoch} | Accuracy (validation set): {round(validation_accuracy, 2)*100}%\")\n",
    "    \n",
    "    # add losses to list\n",
    "    all_losses.append(loss_list)\n",
    "    \n",
    "    if not int(epoch) == 0:\n",
    "        # we compare the val accuracy to the one from prev epoch (but skip the first, since theres nothing to compare).\n",
    "        if abs(validation_accuracy - prev_validation_accuracy) < early_stop_epsilon:\n",
    "            print(f\"No improvement detected (Epoch {epoch}, tolerance={early_stop_epsilon}). Early stopping...\")\n",
    "            break\n",
    "            \n",
    "    prev_validation_accuracy = validation_accuracy"
   ]
  },
  {
   "cell_type": "markdown",
   "metadata": {},
   "source": [
    "\n",
    "### Test Set Eval\n"
   ]
  },
  {
   "cell_type": "code",
   "execution_count": 18,
   "metadata": {},
   "outputs": [
    {
     "name": "stdout",
     "output_type": "stream",
     "text": [
      "Final Accuracy: 63.8333%\n"
     ]
    }
   ],
   "source": [
    "# Now try our model on the test set:\n",
    "accuracy = validation(test_loader, model)\n",
    "print(f\"Final Accuracy: {round(accuracy*100, 4)}%\")"
   ]
  },
  {
   "cell_type": "markdown",
   "metadata": {},
   "source": [
    "# BERT"
   ]
  },
  {
   "cell_type": "code",
   "execution_count": 27,
   "metadata": {},
   "outputs": [],
   "source": [
    "import pandas as pd\n",
    "import torch\n",
    "import numpy as np\n",
    "from transformers import BertTokenizer, BertModel\n",
    "from torch import nn\n",
    "from torch.optim import Adam\n",
    "from tqdm import tqdm"
   ]
  },
  {
   "cell_type": "code",
   "execution_count": 43,
   "metadata": {},
   "outputs": [
    {
     "data": {
      "text/html": [
       "<div>\n",
       "<style scoped>\n",
       "    .dataframe tbody tr th:only-of-type {\n",
       "        vertical-align: middle;\n",
       "    }\n",
       "\n",
       "    .dataframe tbody tr th {\n",
       "        vertical-align: top;\n",
       "    }\n",
       "\n",
       "    .dataframe thead th {\n",
       "        text-align: right;\n",
       "    }\n",
       "</style>\n",
       "<table border=\"1\" class=\"dataframe\">\n",
       "  <thead>\n",
       "    <tr style=\"text-align: right;\">\n",
       "      <th></th>\n",
       "      <th>id</th>\n",
       "      <th>text</th>\n",
       "      <th>label</th>\n",
       "    </tr>\n",
       "  </thead>\n",
       "  <tbody>\n",
       "    <tr>\n",
       "      <th>0</th>\n",
       "      <td>6615</td>\n",
       "      <td>Cholera Daily Situation Report as of 4 Novembe...</td>\n",
       "      <td>4</td>\n",
       "    </tr>\n",
       "    <tr>\n",
       "      <th>1</th>\n",
       "      <td>659</td>\n",
       "      <td>12 321 people affected, five deaths, one perso...</td>\n",
       "      <td>10</td>\n",
       "    </tr>\n",
       "    <tr>\n",
       "      <th>2</th>\n",
       "      <td>8591</td>\n",
       "      <td>Violent clashes and inter-communal tensions ha...</td>\n",
       "      <td>3</td>\n",
       "    </tr>\n",
       "    <tr>\n",
       "      <th>3</th>\n",
       "      <td>8373</td>\n",
       "      <td>AT least 12 people have been killed and severa...</td>\n",
       "      <td>5</td>\n",
       "    </tr>\n",
       "    <tr>\n",
       "      <th>4</th>\n",
       "      <td>10125</td>\n",
       "      <td>Unidentified gunmen attacked a civilian home, ...</td>\n",
       "      <td>9</td>\n",
       "    </tr>\n",
       "  </tbody>\n",
       "</table>\n",
       "</div>"
      ],
      "text/plain": [
       "      id                                               text  label\n",
       "0   6615  Cholera Daily Situation Report as of 4 Novembe...      4\n",
       "1    659  12 321 people affected, five deaths, one perso...     10\n",
       "2   8591  Violent clashes and inter-communal tensions ha...      3\n",
       "3   8373  AT least 12 people have been killed and severa...      5\n",
       "4  10125  Unidentified gunmen attacked a civilian home, ...      9"
      ]
     },
     "execution_count": 43,
     "metadata": {},
     "output_type": "execute_result"
    }
   ],
   "source": [
    "size = \"small\"\n",
    "\n",
    "df_train = pd.read_csv(f'nlpwdl2021_data/thedeep.{size}.train.txt', names=[\"id\", \"text\", \"label\"])\n",
    "df_val = pd.read_csv(f'nlpwdl2021_data/thedeep.{size}.validation.txt', names=[\"id\", \"text\", \"label\"])\n",
    "df_test = pd.read_csv(f'nlpwdl2021_data/thedeep.{size}.test.txt', names=[\"id\", \"text\", \"label\"])\n",
    "\n",
    "df_train.head()"
   ]
  },
  {
   "cell_type": "markdown",
   "metadata": {},
   "source": [
    "### Loading Bert Model"
   ]
  },
  {
   "cell_type": "code",
   "execution_count": 29,
   "metadata": {},
   "outputs": [
    {
     "data": {
      "application/vnd.jupyter.widget-view+json": {
       "model_id": "15e4c06cab1d43d993ba97c7ef359877",
       "version_major": 2,
       "version_minor": 0
      },
      "text/plain": [
       "Downloading:   0%|          | 0.00/570 [00:00<?, ?B/s]"
      ]
     },
     "metadata": {},
     "output_type": "display_data"
    },
    {
     "data": {
      "application/vnd.jupyter.widget-view+json": {
       "model_id": "073323d33387491ca57cb7a07dbd14ec",
       "version_major": 2,
       "version_minor": 0
      },
      "text/plain": [
       "Downloading:   0%|          | 0.00/420M [00:00<?, ?B/s]"
      ]
     },
     "metadata": {},
     "output_type": "display_data"
    },
    {
     "name": "stderr",
     "output_type": "stream",
     "text": [
      "Some weights of the model checkpoint at bert-base-uncased were not used when initializing BertModel: ['cls.seq_relationship.bias', 'cls.predictions.transform.LayerNorm.bias', 'cls.predictions.decoder.weight', 'cls.seq_relationship.weight', 'cls.predictions.transform.dense.weight', 'cls.predictions.bias', 'cls.predictions.transform.dense.bias', 'cls.predictions.transform.LayerNorm.weight']\n",
      "- This IS expected if you are initializing BertModel from the checkpoint of a model trained on another task or with another architecture (e.g. initializing a BertForSequenceClassification model from a BertForPreTraining model).\n",
      "- This IS NOT expected if you are initializing BertModel from the checkpoint of a model that you expect to be exactly identical (initializing a BertForSequenceClassification model from a BertForSequenceClassification model).\n"
     ]
    }
   ],
   "source": [
    "class ClassificationBERTModel(nn.Module):\n",
    "\n",
    "    def __init__(self, dropout=0.5):\n",
    "\n",
    "        super(ClassificationBERTModel, self).__init__()\n",
    "\n",
    "        self.bert = BertModel.from_pretrained('bert-base-uncased')\n",
    "        self.dropout = nn.Dropout(dropout)\n",
    "        self.linear = nn.Linear(768, 12)\n",
    "        self.relu = nn.ReLU()\n",
    "\n",
    "    def forward(self, input_id, mask):\n",
    "        # _: embedding vectors, pooled_output: embedding vectors of [CLS] token\n",
    "        _, pooled_output = self.bert(input_ids= input_id, attention_mask=mask,return_dict=False)\n",
    "        dropout_output = self.dropout(pooled_output)\n",
    "        linear_output = self.linear(dropout_output)\n",
    "        final_layer = self.relu(linear_output)\n",
    "\n",
    "        return final_layer\n",
    "    \n",
    "model = ClassificationBERTModel()"
   ]
  },
  {
   "cell_type": "markdown",
   "metadata": {},
   "source": [
    "### Tokenization"
   ]
  },
  {
   "cell_type": "code",
   "execution_count": 30,
   "metadata": {},
   "outputs": [
    {
     "data": {
      "application/vnd.jupyter.widget-view+json": {
       "model_id": "9c998d2ae1264eefae7afa2ddc5e186f",
       "version_major": 2,
       "version_minor": 0
      },
      "text/plain": [
       "Downloading:   0%|          | 0.00/28.0 [00:00<?, ?B/s]"
      ]
     },
     "metadata": {},
     "output_type": "display_data"
    },
    {
     "data": {
      "application/vnd.jupyter.widget-view+json": {
       "model_id": "06abdae7abf94d8eaef8a4e2efe3c8e6",
       "version_major": 2,
       "version_minor": 0
      },
      "text/plain": [
       "Downloading:   0%|          | 0.00/226k [00:00<?, ?B/s]"
      ]
     },
     "metadata": {},
     "output_type": "display_data"
    },
    {
     "data": {
      "application/vnd.jupyter.widget-view+json": {
       "model_id": "7f3961d7eb854cb094abbd75c11484dd",
       "version_major": 2,
       "version_minor": 0
      },
      "text/plain": [
       "Downloading:   0%|          | 0.00/455k [00:00<?, ?B/s]"
      ]
     },
     "metadata": {},
     "output_type": "display_data"
    }
   ],
   "source": [
    "tokenizer = BertTokenizer.from_pretrained('bert-base-uncased')\n",
    "\n",
    "class Dataset(torch.utils.data.Dataset):\n",
    "\n",
    "    def __init__(self, df):\n",
    "\n",
    "        self.labels = list(df['label'])\n",
    "        self.texts = [tokenizer(text, \n",
    "                               padding='max_length', max_length = 512, truncation=True,\n",
    "                                return_tensors=\"pt\") for text in df['text']]\n",
    "\n",
    "    def classes(self):\n",
    "        return self.labels\n",
    "\n",
    "    def __len__(self):\n",
    "        return len(self.labels)\n",
    "\n",
    "    def get_batch_labels(self, idx):\n",
    "        # Fetch a batch of labels\n",
    "        return np.array(self.labels[idx])\n",
    "\n",
    "    def get_batch_texts(self, idx):\n",
    "        # Fetch a batch of inputs\n",
    "        return self.texts[idx]\n",
    "\n",
    "    def __getitem__(self, idx):\n",
    "\n",
    "        batch_texts = self.get_batch_texts(idx)\n",
    "        batch_y = self.get_batch_labels(idx)\n",
    "\n",
    "        return batch_texts, batch_y"
   ]
  },
  {
   "cell_type": "markdown",
   "metadata": {},
   "source": [
    "#### Training Procedure"
   ]
  },
  {
   "cell_type": "code",
   "execution_count": 60,
   "metadata": {},
   "outputs": [],
   "source": [
    "torch.cuda.empty_cache()"
   ]
  },
  {
   "cell_type": "code",
   "execution_count": 61,
   "metadata": {},
   "outputs": [],
   "source": [
    "def train(model, train_data, val_data, learning_rate, epochs):\n",
    "    # get train data and val data\n",
    "    train, val = Dataset(train_data), Dataset(val_data)\n",
    "    # prepare dataloaders\n",
    "    train_dataloader = torch.utils.data.DataLoader(train, batch_size=4, shuffle=True)\n",
    "    val_dataloader = torch.utils.data.DataLoader(val, batch_size=4)\n",
    "    # gpu preferred with bert\n",
    "    use_cuda = torch.cuda.is_available()\n",
    "    device = torch.device(\"cuda\" if use_cuda else \"cpu\")\n",
    "    # declare loss function where softmax is included in this function\n",
    "    criterion = nn.CrossEntropyLoss()\n",
    "    # choose optimizer\n",
    "    optimizer = Adam(model.parameters(), lr= learning_rate)\n",
    "\n",
    "    if use_cuda:\n",
    "        model = model.cuda()\n",
    "        criterion = criterion.cuda()\n",
    "    # training time\n",
    "    for epoch_num in range(epochs):\n",
    "            total_acc_train = 0\n",
    "            total_loss_train = 0\n",
    "            # training set \n",
    "            for train_input, train_label in tqdm(train_dataloader):\n",
    "                # put ur stuff on the GPU\n",
    "                train_label = torch.tensor(train_label, dtype=torch.long, device=device)\n",
    "                mask = train_input['attention_mask'].to(device)\n",
    "                input_id = train_input['input_ids'].squeeze(1).to(device)\n",
    "                \n",
    "                output = model(input_id, mask)\n",
    "                # calculate soft-probabilities and negLogLikeLoss \n",
    "                batch_loss = criterion(output, train_label)\n",
    "                total_loss_train += batch_loss.item()\n",
    "                \n",
    "                acc = (output.argmax(dim=1) == train_label).sum().item()\n",
    "                total_acc_train += acc\n",
    "                # set gradients to zero\n",
    "                model.zero_grad()\n",
    "                # compute dloss/dx for every parameter\n",
    "                batch_loss.backward()\n",
    "                # performs a parameter update based on the current gradient\n",
    "                optimizer.step()\n",
    "            \n",
    "            total_acc_val = 0\n",
    "            total_loss_val = 0\n",
    "\n",
    "            with torch.no_grad():\n",
    "                # validation set\n",
    "                for val_input, val_label in val_dataloader:\n",
    "\n",
    "                    val_label = torch.tensor(val_label, dtype=torch.long, device=device)\n",
    "                    mask = val_input['attention_mask'].to(device)\n",
    "                    input_id = val_input['input_ids'].squeeze(1).to(device)\n",
    "\n",
    "                    output = model(input_id, mask)\n",
    "\n",
    "                    batch_loss = criterion(output, val_label)\n",
    "                    total_loss_val += batch_loss.item()\n",
    "                    \n",
    "                    acc = (output.argmax(dim=1) == val_label).sum().item()\n",
    "                    total_acc_val += acc\n",
    "            \n",
    "            print(\n",
    "                f'Epochs: {epoch_num + 1} | Train Loss: {total_loss_train / len(train_data): .3f} | Train Accuracy: {total_acc_train / len(train_data): .3f} | Val Loss: {total_loss_val / len(val_data): .3f} | Val Accuracy: {total_acc_val / len(val_data): .3f}')\n",
    "                  "
   ]
  },
  {
   "cell_type": "code",
   "execution_count": 62,
   "metadata": {},
   "outputs": [
    {
     "name": "stderr",
     "output_type": "stream",
     "text": [
      "  0%|                                                  | 0/2100 [00:00<?, ?it/s]/tmp/ipykernel_7680/3037234860.py:25: UserWarning: To copy construct from a tensor, it is recommended to use sourceTensor.clone().detach() or sourceTensor.clone().detach().requires_grad_(True), rather than torch.tensor(sourceTensor).\n",
      "  train_label = torch.tensor(train_label, dtype=torch.long, device=device)\n",
      "100%|███████████████████████████████████████| 2100/2100 [11:04<00:00,  3.16it/s]\n",
      "/tmp/ipykernel_7680/3037234860.py:50: UserWarning: To copy construct from a tensor, it is recommended to use sourceTensor.clone().detach() or sourceTensor.clone().detach().requires_grad_(True), rather than torch.tensor(sourceTensor).\n",
      "  val_label = torch.tensor(val_label, dtype=torch.long, device=device)\n"
     ]
    },
    {
     "name": "stdout",
     "output_type": "stream",
     "text": [
      "Epochs: 1 | Train Loss:  0.377 | Train Accuracy:  0.592 | Val Loss:  0.358 | Val Accuracy:  0.610\n"
     ]
    }
   ],
   "source": [
    "EPOCHS = 1\n",
    "LR = 1e-6\n",
    "              \n",
    "train(model, df_train, df_val, LR, EPOCHS)"
   ]
  },
  {
   "cell_type": "code",
   "execution_count": 63,
   "metadata": {},
   "outputs": [],
   "source": [
    "def evaluate(model, test_data):\n",
    "\n",
    "    test = Dataset(test_data)\n",
    "\n",
    "    test_dataloader = torch.utils.data.DataLoader(test, batch_size=2)\n",
    "\n",
    "    use_cuda = torch.cuda.is_available()\n",
    "    device = torch.device(\"cuda\" if use_cuda else \"cpu\")\n",
    "\n",
    "    if use_cuda:\n",
    "\n",
    "        model = model.cuda()\n",
    "\n",
    "    total_acc_test = 0\n",
    "    with torch.no_grad():\n",
    "\n",
    "        for test_input, test_label in test_dataloader:\n",
    "\n",
    "              test_label = torch.tensor(test_label, dtype=torch.long, device=device)\n",
    "              mask = test_input['attention_mask'].to(device)\n",
    "              input_id = test_input['input_ids'].squeeze(1).to(device)\n",
    "\n",
    "              output = model(input_id, mask)\n",
    "\n",
    "              acc = (output.argmax(dim=1) == test_label).sum().item()\n",
    "              total_acc_test += acc\n",
    "    \n",
    "    print(f'Test Accuracy: {total_acc_test / len(test_data): .3f}')"
   ]
  },
  {
   "cell_type": "code",
   "execution_count": 64,
   "metadata": {},
   "outputs": [
    {
     "name": "stderr",
     "output_type": "stream",
     "text": [
      "/tmp/ipykernel_7680/2444823547.py:19: UserWarning: To copy construct from a tensor, it is recommended to use sourceTensor.clone().detach() or sourceTensor.clone().detach().requires_grad_(True), rather than torch.tensor(sourceTensor).\n",
      "  test_label = torch.tensor(test_label, dtype=torch.long, device=device)\n"
     ]
    },
    {
     "name": "stdout",
     "output_type": "stream",
     "text": [
      "Test Accuracy:  0.627\n"
     ]
    }
   ],
   "source": [
    "evaluate(model, df_test)"
   ]
  },
  {
   "cell_type": "code",
   "execution_count": 20,
   "metadata": {},
   "outputs": [],
   "source": [
    "from matplotlib import pyplot as plt"
   ]
  },
  {
   "cell_type": "code",
   "execution_count": 40,
   "metadata": {},
   "outputs": [],
   "source": [
    "mean_losses = []\n",
    "for l in all_losses:\n",
    "    mean_losses.append(l.mean())"
   ]
  },
  {
   "cell_type": "code",
   "execution_count": 68,
   "metadata": {},
   "outputs": [
    {
     "data": {
      "image/png": "[encoded data removed]",
      "text/plain": [
       "<Figure size 432x288 with 1 Axes>"
      ]
     },
     "metadata": {
      "needs_background": "light"
     },
     "output_type": "display_data"
    }
   ],
   "source": [
    "plt.plot(mean_losses)\n",
    "plt.title(\"Loss while training\")\n",
    "plt.xlabel(\"Epochs\")\n",
    "plt.ylabel(\"Loss\")\n",
    "plt.show()\n"
   ]
  }
 ],
 "metadata": {
  "kernelspec": {
   "display_name": "Python 3 (ipykernel)",
   "language": "python",
   "name": "python3"
  },
  "language_info": {
   "codemirror_mode": {
    "name": "ipython",
    "version": 3
   },
   "file_extension": ".py",
   "mimetype": "text/x-python",
   "name": "python",
   "nbconvert_exporter": "python",
   "pygments_lexer": "ipython3",
   "version": "3.10.9"
  }
 },
 "nbformat": 4,
 "nbformat_minor": 4
}

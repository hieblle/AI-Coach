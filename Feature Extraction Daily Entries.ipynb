{
 "cells": [
  {
   "cell_type": "markdown",
   "id": "3b17247b",
   "metadata": {},
   "source": [
    "# Feature Extraction\n",
    "\n",
    "Based on daily entries.\n",
    "- upload text splitted to entries\n",
    "- loop over entries, send each with feature extraction prompt to GPT\n",
    "- concat pandas DataFrame with original one: df with features\n",
    "\n",
    "What's not in this notebook:\n",
    "- Analysis over whole journal and\n",
    "- Embeddings weren't used\n",
    "\n",
    "\n",
    "\n",
    "### Feature list/ideas for later:\n",
    "- NER (Named Entity Recognition) -> classify names, organizations, locations\n",
    "- Emotion Detection\n",
    "- Goals, Values"
   ]
  },
  {
   "cell_type": "code",
   "execution_count": 2,
   "id": "d6ff30c9",
   "metadata": {},
   "outputs": [],
   "source": [
    "import pandas as pd\n",
    "import os\n",
    "import numpy as np\n",
    "import openai"
   ]
  },
  {
   "cell_type": "code",
   "execution_count": 3,
   "id": "db2a6fa5",
   "metadata": {},
   "outputs": [],
   "source": [
    "openai.api_key = os.getenv('OPENAI_API_KEY')"
   ]
  },
  {
   "cell_type": "code",
   "execution_count": 4,
   "id": "5b49e02b",
   "metadata": {},
   "outputs": [],
   "source": [
    "# define call function for openai\n",
    "def get_completion(prompt, model=\"gpt-3.5-turbo\", temperature=0):\n",
    "    messages = [{\"role\": \"user\", \"content\": prompt}]\n",
    "    response = openai.ChatCompletion.create(\n",
    "        model = model,\n",
    "        messages = messages,\n",
    "        temperature = temperature,\n",
    "    )\n",
    "    return response.choices[0].message[\"content\"]"
   ]
  },
  {
   "cell_type": "code",
   "execution_count": 5,
   "id": "0b31cd7b",
   "metadata": {},
   "outputs": [
    {
     "ename": "FileNotFoundError",
     "evalue": "[Errno 2] No such file or directory: 'test_embeddings.csv'",
     "output_type": "error",
     "traceback": [
      "\u001b[1;31m---------------------------------------------------------------------------\u001b[0m",
      "\u001b[1;31mFileNotFoundError\u001b[0m                         Traceback (most recent call last)",
      "Cell \u001b[1;32mIn[5], line 2\u001b[0m\n\u001b[0;32m      1\u001b[0m \u001b[38;5;66;03m# read in CSV for embeddings (chunks)\u001b[39;00m\n\u001b[1;32m----> 2\u001b[0m data_embeddings \u001b[38;5;241m=\u001b[39m \u001b[43mpd\u001b[49m\u001b[38;5;241;43m.\u001b[39;49m\u001b[43mread_csv\u001b[49m\u001b[43m(\u001b[49m\u001b[38;5;124;43mf\u001b[39;49m\u001b[38;5;124;43m'\u001b[39;49m\u001b[38;5;124;43mtest_embeddings.csv\u001b[39;49m\u001b[38;5;124;43m'\u001b[39;49m\u001b[43m)\u001b[49m\n\u001b[0;32m      3\u001b[0m \u001b[38;5;66;03m# and journal entries (! already splitted to single entries + formatted to CSV)\u001b[39;00m\n\u001b[0;32m      4\u001b[0m data_journals \u001b[38;5;241m=\u001b[39m pd\u001b[38;5;241m.\u001b[39mread_csv(\u001b[38;5;124mf\u001b[39m\u001b[38;5;124m'\u001b[39m\u001b[38;5;124mtest_journals.csv\u001b[39m\u001b[38;5;124m'\u001b[39m)\n",
      "File \u001b[1;32m~\\miniconda3\\envs\\ai_coach\\lib\\site-packages\\pandas\\util\\_decorators.py:211\u001b[0m, in \u001b[0;36mdeprecate_kwarg.<locals>._deprecate_kwarg.<locals>.wrapper\u001b[1;34m(*args, **kwargs)\u001b[0m\n\u001b[0;32m    209\u001b[0m     \u001b[38;5;28;01melse\u001b[39;00m:\n\u001b[0;32m    210\u001b[0m         kwargs[new_arg_name] \u001b[38;5;241m=\u001b[39m new_arg_value\n\u001b[1;32m--> 211\u001b[0m \u001b[38;5;28;01mreturn\u001b[39;00m func(\u001b[38;5;241m*\u001b[39margs, \u001b[38;5;241m*\u001b[39m\u001b[38;5;241m*\u001b[39mkwargs)\n",
      "File \u001b[1;32m~\\miniconda3\\envs\\ai_coach\\lib\\site-packages\\pandas\\util\\_decorators.py:331\u001b[0m, in \u001b[0;36mdeprecate_nonkeyword_arguments.<locals>.decorate.<locals>.wrapper\u001b[1;34m(*args, **kwargs)\u001b[0m\n\u001b[0;32m    325\u001b[0m \u001b[38;5;28;01mif\u001b[39;00m \u001b[38;5;28mlen\u001b[39m(args) \u001b[38;5;241m>\u001b[39m num_allow_args:\n\u001b[0;32m    326\u001b[0m     warnings\u001b[38;5;241m.\u001b[39mwarn(\n\u001b[0;32m    327\u001b[0m         msg\u001b[38;5;241m.\u001b[39mformat(arguments\u001b[38;5;241m=\u001b[39m_format_argument_list(allow_args)),\n\u001b[0;32m    328\u001b[0m         \u001b[38;5;167;01mFutureWarning\u001b[39;00m,\n\u001b[0;32m    329\u001b[0m         stacklevel\u001b[38;5;241m=\u001b[39mfind_stack_level(),\n\u001b[0;32m    330\u001b[0m     )\n\u001b[1;32m--> 331\u001b[0m \u001b[38;5;28;01mreturn\u001b[39;00m func(\u001b[38;5;241m*\u001b[39margs, \u001b[38;5;241m*\u001b[39m\u001b[38;5;241m*\u001b[39mkwargs)\n",
      "File \u001b[1;32m~\\miniconda3\\envs\\ai_coach\\lib\\site-packages\\pandas\\io\\parsers\\readers.py:950\u001b[0m, in \u001b[0;36mread_csv\u001b[1;34m(filepath_or_buffer, sep, delimiter, header, names, index_col, usecols, squeeze, prefix, mangle_dupe_cols, dtype, engine, converters, true_values, false_values, skipinitialspace, skiprows, skipfooter, nrows, na_values, keep_default_na, na_filter, verbose, skip_blank_lines, parse_dates, infer_datetime_format, keep_date_col, date_parser, dayfirst, cache_dates, iterator, chunksize, compression, thousands, decimal, lineterminator, quotechar, quoting, doublequote, escapechar, comment, encoding, encoding_errors, dialect, error_bad_lines, warn_bad_lines, on_bad_lines, delim_whitespace, low_memory, memory_map, float_precision, storage_options)\u001b[0m\n\u001b[0;32m    935\u001b[0m kwds_defaults \u001b[38;5;241m=\u001b[39m _refine_defaults_read(\n\u001b[0;32m    936\u001b[0m     dialect,\n\u001b[0;32m    937\u001b[0m     delimiter,\n\u001b[1;32m   (...)\u001b[0m\n\u001b[0;32m    946\u001b[0m     defaults\u001b[38;5;241m=\u001b[39m{\u001b[38;5;124m\"\u001b[39m\u001b[38;5;124mdelimiter\u001b[39m\u001b[38;5;124m\"\u001b[39m: \u001b[38;5;124m\"\u001b[39m\u001b[38;5;124m,\u001b[39m\u001b[38;5;124m\"\u001b[39m},\n\u001b[0;32m    947\u001b[0m )\n\u001b[0;32m    948\u001b[0m kwds\u001b[38;5;241m.\u001b[39mupdate(kwds_defaults)\n\u001b[1;32m--> 950\u001b[0m \u001b[38;5;28;01mreturn\u001b[39;00m \u001b[43m_read\u001b[49m\u001b[43m(\u001b[49m\u001b[43mfilepath_or_buffer\u001b[49m\u001b[43m,\u001b[49m\u001b[43m \u001b[49m\u001b[43mkwds\u001b[49m\u001b[43m)\u001b[49m\n",
      "File \u001b[1;32m~\\miniconda3\\envs\\ai_coach\\lib\\site-packages\\pandas\\io\\parsers\\readers.py:605\u001b[0m, in \u001b[0;36m_read\u001b[1;34m(filepath_or_buffer, kwds)\u001b[0m\n\u001b[0;32m    602\u001b[0m _validate_names(kwds\u001b[38;5;241m.\u001b[39mget(\u001b[38;5;124m\"\u001b[39m\u001b[38;5;124mnames\u001b[39m\u001b[38;5;124m\"\u001b[39m, \u001b[38;5;28;01mNone\u001b[39;00m))\n\u001b[0;32m    604\u001b[0m \u001b[38;5;66;03m# Create the parser.\u001b[39;00m\n\u001b[1;32m--> 605\u001b[0m parser \u001b[38;5;241m=\u001b[39m TextFileReader(filepath_or_buffer, \u001b[38;5;241m*\u001b[39m\u001b[38;5;241m*\u001b[39mkwds)\n\u001b[0;32m    607\u001b[0m \u001b[38;5;28;01mif\u001b[39;00m chunksize \u001b[38;5;129;01mor\u001b[39;00m iterator:\n\u001b[0;32m    608\u001b[0m     \u001b[38;5;28;01mreturn\u001b[39;00m parser\n",
      "File \u001b[1;32m~\\miniconda3\\envs\\ai_coach\\lib\\site-packages\\pandas\\io\\parsers\\readers.py:1442\u001b[0m, in \u001b[0;36mTextFileReader.__init__\u001b[1;34m(self, f, engine, **kwds)\u001b[0m\n\u001b[0;32m   1439\u001b[0m     \u001b[38;5;28mself\u001b[39m\u001b[38;5;241m.\u001b[39moptions[\u001b[38;5;124m\"\u001b[39m\u001b[38;5;124mhas_index_names\u001b[39m\u001b[38;5;124m\"\u001b[39m] \u001b[38;5;241m=\u001b[39m kwds[\u001b[38;5;124m\"\u001b[39m\u001b[38;5;124mhas_index_names\u001b[39m\u001b[38;5;124m\"\u001b[39m]\n\u001b[0;32m   1441\u001b[0m \u001b[38;5;28mself\u001b[39m\u001b[38;5;241m.\u001b[39mhandles: IOHandles \u001b[38;5;241m|\u001b[39m \u001b[38;5;28;01mNone\u001b[39;00m \u001b[38;5;241m=\u001b[39m \u001b[38;5;28;01mNone\u001b[39;00m\n\u001b[1;32m-> 1442\u001b[0m \u001b[38;5;28mself\u001b[39m\u001b[38;5;241m.\u001b[39m_engine \u001b[38;5;241m=\u001b[39m \u001b[38;5;28;43mself\u001b[39;49m\u001b[38;5;241;43m.\u001b[39;49m\u001b[43m_make_engine\u001b[49m\u001b[43m(\u001b[49m\u001b[43mf\u001b[49m\u001b[43m,\u001b[49m\u001b[43m \u001b[49m\u001b[38;5;28;43mself\u001b[39;49m\u001b[38;5;241;43m.\u001b[39;49m\u001b[43mengine\u001b[49m\u001b[43m)\u001b[49m\n",
      "File \u001b[1;32m~\\miniconda3\\envs\\ai_coach\\lib\\site-packages\\pandas\\io\\parsers\\readers.py:1735\u001b[0m, in \u001b[0;36mTextFileReader._make_engine\u001b[1;34m(self, f, engine)\u001b[0m\n\u001b[0;32m   1733\u001b[0m     \u001b[38;5;28;01mif\u001b[39;00m \u001b[38;5;124m\"\u001b[39m\u001b[38;5;124mb\u001b[39m\u001b[38;5;124m\"\u001b[39m \u001b[38;5;129;01mnot\u001b[39;00m \u001b[38;5;129;01min\u001b[39;00m mode:\n\u001b[0;32m   1734\u001b[0m         mode \u001b[38;5;241m+\u001b[39m\u001b[38;5;241m=\u001b[39m \u001b[38;5;124m\"\u001b[39m\u001b[38;5;124mb\u001b[39m\u001b[38;5;124m\"\u001b[39m\n\u001b[1;32m-> 1735\u001b[0m \u001b[38;5;28mself\u001b[39m\u001b[38;5;241m.\u001b[39mhandles \u001b[38;5;241m=\u001b[39m \u001b[43mget_handle\u001b[49m\u001b[43m(\u001b[49m\n\u001b[0;32m   1736\u001b[0m \u001b[43m    \u001b[49m\u001b[43mf\u001b[49m\u001b[43m,\u001b[49m\n\u001b[0;32m   1737\u001b[0m \u001b[43m    \u001b[49m\u001b[43mmode\u001b[49m\u001b[43m,\u001b[49m\n\u001b[0;32m   1738\u001b[0m \u001b[43m    \u001b[49m\u001b[43mencoding\u001b[49m\u001b[38;5;241;43m=\u001b[39;49m\u001b[38;5;28;43mself\u001b[39;49m\u001b[38;5;241;43m.\u001b[39;49m\u001b[43moptions\u001b[49m\u001b[38;5;241;43m.\u001b[39;49m\u001b[43mget\u001b[49m\u001b[43m(\u001b[49m\u001b[38;5;124;43m\"\u001b[39;49m\u001b[38;5;124;43mencoding\u001b[39;49m\u001b[38;5;124;43m\"\u001b[39;49m\u001b[43m,\u001b[49m\u001b[43m \u001b[49m\u001b[38;5;28;43;01mNone\u001b[39;49;00m\u001b[43m)\u001b[49m\u001b[43m,\u001b[49m\n\u001b[0;32m   1739\u001b[0m \u001b[43m    \u001b[49m\u001b[43mcompression\u001b[49m\u001b[38;5;241;43m=\u001b[39;49m\u001b[38;5;28;43mself\u001b[39;49m\u001b[38;5;241;43m.\u001b[39;49m\u001b[43moptions\u001b[49m\u001b[38;5;241;43m.\u001b[39;49m\u001b[43mget\u001b[49m\u001b[43m(\u001b[49m\u001b[38;5;124;43m\"\u001b[39;49m\u001b[38;5;124;43mcompression\u001b[39;49m\u001b[38;5;124;43m\"\u001b[39;49m\u001b[43m,\u001b[49m\u001b[43m \u001b[49m\u001b[38;5;28;43;01mNone\u001b[39;49;00m\u001b[43m)\u001b[49m\u001b[43m,\u001b[49m\n\u001b[0;32m   1740\u001b[0m \u001b[43m    \u001b[49m\u001b[43mmemory_map\u001b[49m\u001b[38;5;241;43m=\u001b[39;49m\u001b[38;5;28;43mself\u001b[39;49m\u001b[38;5;241;43m.\u001b[39;49m\u001b[43moptions\u001b[49m\u001b[38;5;241;43m.\u001b[39;49m\u001b[43mget\u001b[49m\u001b[43m(\u001b[49m\u001b[38;5;124;43m\"\u001b[39;49m\u001b[38;5;124;43mmemory_map\u001b[39;49m\u001b[38;5;124;43m\"\u001b[39;49m\u001b[43m,\u001b[49m\u001b[43m \u001b[49m\u001b[38;5;28;43;01mFalse\u001b[39;49;00m\u001b[43m)\u001b[49m\u001b[43m,\u001b[49m\n\u001b[0;32m   1741\u001b[0m \u001b[43m    \u001b[49m\u001b[43mis_text\u001b[49m\u001b[38;5;241;43m=\u001b[39;49m\u001b[43mis_text\u001b[49m\u001b[43m,\u001b[49m\n\u001b[0;32m   1742\u001b[0m \u001b[43m    \u001b[49m\u001b[43merrors\u001b[49m\u001b[38;5;241;43m=\u001b[39;49m\u001b[38;5;28;43mself\u001b[39;49m\u001b[38;5;241;43m.\u001b[39;49m\u001b[43moptions\u001b[49m\u001b[38;5;241;43m.\u001b[39;49m\u001b[43mget\u001b[49m\u001b[43m(\u001b[49m\u001b[38;5;124;43m\"\u001b[39;49m\u001b[38;5;124;43mencoding_errors\u001b[39;49m\u001b[38;5;124;43m\"\u001b[39;49m\u001b[43m,\u001b[49m\u001b[43m \u001b[49m\u001b[38;5;124;43m\"\u001b[39;49m\u001b[38;5;124;43mstrict\u001b[39;49m\u001b[38;5;124;43m\"\u001b[39;49m\u001b[43m)\u001b[49m\u001b[43m,\u001b[49m\n\u001b[0;32m   1743\u001b[0m \u001b[43m    \u001b[49m\u001b[43mstorage_options\u001b[49m\u001b[38;5;241;43m=\u001b[39;49m\u001b[38;5;28;43mself\u001b[39;49m\u001b[38;5;241;43m.\u001b[39;49m\u001b[43moptions\u001b[49m\u001b[38;5;241;43m.\u001b[39;49m\u001b[43mget\u001b[49m\u001b[43m(\u001b[49m\u001b[38;5;124;43m\"\u001b[39;49m\u001b[38;5;124;43mstorage_options\u001b[39;49m\u001b[38;5;124;43m\"\u001b[39;49m\u001b[43m,\u001b[49m\u001b[43m \u001b[49m\u001b[38;5;28;43;01mNone\u001b[39;49;00m\u001b[43m)\u001b[49m\u001b[43m,\u001b[49m\n\u001b[0;32m   1744\u001b[0m \u001b[43m\u001b[49m\u001b[43m)\u001b[49m\n\u001b[0;32m   1745\u001b[0m \u001b[38;5;28;01massert\u001b[39;00m \u001b[38;5;28mself\u001b[39m\u001b[38;5;241m.\u001b[39mhandles \u001b[38;5;129;01mis\u001b[39;00m \u001b[38;5;129;01mnot\u001b[39;00m \u001b[38;5;28;01mNone\u001b[39;00m\n\u001b[0;32m   1746\u001b[0m f \u001b[38;5;241m=\u001b[39m \u001b[38;5;28mself\u001b[39m\u001b[38;5;241m.\u001b[39mhandles\u001b[38;5;241m.\u001b[39mhandle\n",
      "File \u001b[1;32m~\\miniconda3\\envs\\ai_coach\\lib\\site-packages\\pandas\\io\\common.py:856\u001b[0m, in \u001b[0;36mget_handle\u001b[1;34m(path_or_buf, mode, encoding, compression, memory_map, is_text, errors, storage_options)\u001b[0m\n\u001b[0;32m    851\u001b[0m \u001b[38;5;28;01melif\u001b[39;00m \u001b[38;5;28misinstance\u001b[39m(handle, \u001b[38;5;28mstr\u001b[39m):\n\u001b[0;32m    852\u001b[0m     \u001b[38;5;66;03m# Check whether the filename is to be opened in binary mode.\u001b[39;00m\n\u001b[0;32m    853\u001b[0m     \u001b[38;5;66;03m# Binary mode does not support 'encoding' and 'newline'.\u001b[39;00m\n\u001b[0;32m    854\u001b[0m     \u001b[38;5;28;01mif\u001b[39;00m ioargs\u001b[38;5;241m.\u001b[39mencoding \u001b[38;5;129;01mand\u001b[39;00m \u001b[38;5;124m\"\u001b[39m\u001b[38;5;124mb\u001b[39m\u001b[38;5;124m\"\u001b[39m \u001b[38;5;129;01mnot\u001b[39;00m \u001b[38;5;129;01min\u001b[39;00m ioargs\u001b[38;5;241m.\u001b[39mmode:\n\u001b[0;32m    855\u001b[0m         \u001b[38;5;66;03m# Encoding\u001b[39;00m\n\u001b[1;32m--> 856\u001b[0m         handle \u001b[38;5;241m=\u001b[39m \u001b[38;5;28;43mopen\u001b[39;49m\u001b[43m(\u001b[49m\n\u001b[0;32m    857\u001b[0m \u001b[43m            \u001b[49m\u001b[43mhandle\u001b[49m\u001b[43m,\u001b[49m\n\u001b[0;32m    858\u001b[0m \u001b[43m            \u001b[49m\u001b[43mioargs\u001b[49m\u001b[38;5;241;43m.\u001b[39;49m\u001b[43mmode\u001b[49m\u001b[43m,\u001b[49m\n\u001b[0;32m    859\u001b[0m \u001b[43m            \u001b[49m\u001b[43mencoding\u001b[49m\u001b[38;5;241;43m=\u001b[39;49m\u001b[43mioargs\u001b[49m\u001b[38;5;241;43m.\u001b[39;49m\u001b[43mencoding\u001b[49m\u001b[43m,\u001b[49m\n\u001b[0;32m    860\u001b[0m \u001b[43m            \u001b[49m\u001b[43merrors\u001b[49m\u001b[38;5;241;43m=\u001b[39;49m\u001b[43merrors\u001b[49m\u001b[43m,\u001b[49m\n\u001b[0;32m    861\u001b[0m \u001b[43m            \u001b[49m\u001b[43mnewline\u001b[49m\u001b[38;5;241;43m=\u001b[39;49m\u001b[38;5;124;43m\"\u001b[39;49m\u001b[38;5;124;43m\"\u001b[39;49m\u001b[43m,\u001b[49m\n\u001b[0;32m    862\u001b[0m \u001b[43m        \u001b[49m\u001b[43m)\u001b[49m\n\u001b[0;32m    863\u001b[0m     \u001b[38;5;28;01melse\u001b[39;00m:\n\u001b[0;32m    864\u001b[0m         \u001b[38;5;66;03m# Binary mode\u001b[39;00m\n\u001b[0;32m    865\u001b[0m         handle \u001b[38;5;241m=\u001b[39m \u001b[38;5;28mopen\u001b[39m(handle, ioargs\u001b[38;5;241m.\u001b[39mmode)\n",
      "\u001b[1;31mFileNotFoundError\u001b[0m: [Errno 2] No such file or directory: 'test_embeddings.csv'"
     ]
    }
   ],
   "source": [
    "# read in CSV for embeddings (chunks)\n",
    "data_embeddings = pd.read_csv(f'test_embeddings.csv')\n",
    "# and journal entries (! already splitted to single entries + formatted to CSV)\n",
    "data_journals = pd.read_csv(f'test_journals.csv')\n",
    "\n",
    "print(data_embeddings.shape)\n",
    "print(data_journals.shape)"
   ]
  },
  {
   "cell_type": "code",
   "execution_count": 164,
   "id": "930a80be",
   "metadata": {},
   "outputs": [
    {
     "data": {
      "text/html": [
       "<div>\n",
       "<style scoped>\n",
       "    .dataframe tbody tr th:only-of-type {\n",
       "        vertical-align: middle;\n",
       "    }\n",
       "\n",
       "    .dataframe tbody tr th {\n",
       "        vertical-align: top;\n",
       "    }\n",
       "\n",
       "    .dataframe thead th {\n",
       "        text-align: right;\n",
       "    }\n",
       "</style>\n",
       "<table border=\"1\" class=\"dataframe\">\n",
       "  <thead>\n",
       "    <tr style=\"text-align: right;\">\n",
       "      <th></th>\n",
       "      <th>Unnamed: 0</th>\n",
       "      <th>Date</th>\n",
       "      <th>Text</th>\n",
       "    </tr>\n",
       "  </thead>\n",
       "  <tbody>\n",
       "    <tr>\n",
       "      <th>0</th>\n",
       "      <td>0</td>\n",
       "      <td>2023.04.13</td>\n",
       "      <td>Heute ist ein anstrengender Tag. Ich fühle mic...</td>\n",
       "    </tr>\n",
       "    <tr>\n",
       "      <th>1</th>\n",
       "      <td>1</td>\n",
       "      <td>2023.04.14</td>\n",
       "      <td>Heute geht es mir schon etwas besser. Ich habe...</td>\n",
       "    </tr>\n",
       "    <tr>\n",
       "      <th>2</th>\n",
       "      <td>2</td>\n",
       "      <td>2023.04.15</td>\n",
       "      <td>Ich bin wirklich stolz auf mich, denn ich habe...</td>\n",
       "    </tr>\n",
       "    <tr>\n",
       "      <th>3</th>\n",
       "      <td>3</td>\n",
       "      <td>2023.04.16</td>\n",
       "      <td>Ich bin so froh, dass ich die letzten Tage so ...</td>\n",
       "    </tr>\n",
       "    <tr>\n",
       "      <th>4</th>\n",
       "      <td>4</td>\n",
       "      <td>2023.04.17</td>\n",
       "      <td>Heute ist ein guter Tag. Ich fühle mich ausgeg...</td>\n",
       "    </tr>\n",
       "  </tbody>\n",
       "</table>\n",
       "</div>"
      ],
      "text/plain": [
       "   Unnamed: 0        Date                                               Text\n",
       "0           0  2023.04.13  Heute ist ein anstrengender Tag. Ich fühle mic...\n",
       "1           1  2023.04.14  Heute geht es mir schon etwas besser. Ich habe...\n",
       "2           2  2023.04.15  Ich bin wirklich stolz auf mich, denn ich habe...\n",
       "3           3  2023.04.16  Ich bin so froh, dass ich die letzten Tage so ...\n",
       "4           4  2023.04.17  Heute ist ein guter Tag. Ich fühle mich ausgeg..."
      ]
     },
     "execution_count": 164,
     "metadata": {},
     "output_type": "execute_result"
    }
   ],
   "source": [
    "data_journals.head()"
   ]
  },
  {
   "cell_type": "code",
   "execution_count": 165,
   "id": "8abce449",
   "metadata": {},
   "outputs": [],
   "source": [
    "entries = []\n",
    "for name, values in data_journals['Text'].items():\n",
    "    entries.append(values)"
   ]
  },
  {
   "cell_type": "code",
   "execution_count": 166,
   "id": "3f9a535f",
   "metadata": {},
   "outputs": [
    {
     "data": {
      "text/plain": [
       "'Heute ist ein anstrengender Tag. Ich fühle mich seit ein paar Tagen sehr gestresst und kann kaum schlafen. In der Nacht wache ich ständig auf und meine Gedanken kreisen ununterbrochen um all die Dinge, die ich noch erledigen muss. Ich habe das Gefühl, dass ich keine Energie mehr habe und bin deshalb heute den ganzen Tag müde und unkonzentriert. \\r\\nIch hoffe, dass sich das bald ändert und ich wieder zu meiner alten Energie zurückfinde.'"
      ]
     },
     "execution_count": 166,
     "metadata": {},
     "output_type": "execute_result"
    }
   ],
   "source": [
    "data_journals['Text'][0]"
   ]
  },
  {
   "cell_type": "code",
   "execution_count": 172,
   "id": "6ad8309b",
   "metadata": {},
   "outputs": [
    {
     "name": "stdout",
     "output_type": "stream",
     "text": [
      "5 journal entries\n"
     ]
    },
    {
     "data": {
      "text/plain": [
       "['Heute ist ein anstrengender Tag. Ich fühle mich seit ein paar Tagen sehr gestresst und kann kaum schlafen. In der Nacht wache ich ständig auf und meine Gedanken kreisen ununterbrochen um all die Dinge, die ich noch erledigen muss. Ich habe das Gefühl, dass ich keine Energie mehr habe und bin deshalb heute den ganzen Tag müde und unkonzentriert. \\r\\nIch hoffe, dass sich das bald ändert und ich wieder zu meiner alten Energie zurückfinde.',\n",
       " 'Heute geht es mir schon etwas besser. Ich habe gestern Abend ein paar Entspannungsübungen gemacht und konnte dadurch besser schlafen. Meine Gedanken sind immer noch etwas chaotisch, aber ich habe das Gefühl, dass ich langsam wieder Kontrolle darüber bekomme. \\r\\nIch habe heute auch schon ein paar Dinge von meiner To-Do-Liste abhaken können, was mir ein gutes Gefühl gibt.',\n",
       " 'Ich bin wirklich stolz auf mich, denn ich habe heute schon sehr viel geschafft. Ich fühle mich energiegeladen und produktiv. Die Entspannungsübungen scheinen zu helfen und ich kann meine Gedanken besser sortieren. Ich habe sogar schon anfangen können, an einem neuen Projekt zu arbeiten, auf das ich mich schon seit Wochen freue. Es fühlt sich gut an, wieder in die richtige Richtung zu gehen.',\n",
       " 'Ich bin so froh, dass ich die letzten Tage so viel Energie hatte. Es hat mir geholfen, die Dinge, die ich schon lange vor mir hergeschoben habe, endlich anzugehen. Heute habe ich fast alles von meiner To-Do-Liste erledigt und fühle mich unglaublich zufrieden. Ich habe das Gefühl, dass ich meine alte Kraft zurückgewonnen habe und bin optimistisch für die Zukunft.',\n",
       " 'Heute ist ein guter Tag. Ich fühle mich ausgeglichen und glücklich. Die letzten Tage haben mir gezeigt, dass ich auch in schwierigen Situationen durchhalten kann. \\r\\nIch habe gelernt, dass es wichtig ist, auf mich selbst zu achten und mir Zeit für Entspannung und Regeneration zu nehmen. Ich bin dankbar für alles, was ich erreicht habe und freue mich auf das, was noch kommt.']"
      ]
     },
     "execution_count": 172,
     "metadata": {},
     "output_type": "execute_result"
    }
   ],
   "source": [
    "print(f'{len(entries)} journal entries')\n",
    "entries"
   ]
  },
  {
   "cell_type": "markdown",
   "id": "98929533",
   "metadata": {},
   "source": [
    "### Instead of looping over df entries for text I use in this test longer journal entries, directly as string input."
   ]
  },
  {
   "cell_type": "code",
   "execution_count": 145,
   "id": "795deb73",
   "metadata": {},
   "outputs": [],
   "source": [
    "text = f\"\"\"\n",
    "Jetzt ist es an der Zeit. Zeit für einen Umbruch. \n",
    "Eher einen Aufbruch. Einen Aufbruch in eine Welt, in eine Welt die ich mir schon lange erträume und erarbeite. \n",
    "Alle Leinen loslassen, alles alte hinter sich lassen und den Weg des Kriegers einschlagen. \n",
    "Auf die nächste Stufe zu steigen und sich neuen Herausforderungen geben. Neue Dinge zu lernen. \n",
    "Zu lernen, auch dann alles zu geben, wenn man überhaupt nicht mehr will. Sondern durchzuhalten. \n",
    "Immer wieder aufzustehen. Sich zu 100% auf etwas konzentrieren und alle Energie reinstecken. \n",
    "Den ganzen Tag, das ganze Leben danach auszurichten und der Beste darin zu werden. \n",
    "Sich Ziele zu setzen und volle Fahr voraus darauf zusteuern. \n",
    "Momentum aufzubauen, sodass man damit Mauern niederreißen wird. \n",
    "Alles aus dem Weg zu schaffen, was mich aufhalten könnte, sich all den Dingen stellen, die ich aufschiebe. \n",
    "Verantwortung zu übernehmen um am anderen Ende wieder raus zu kommen aus den Tiefen. \n",
    "Dort wo Erfolg und ein glückliches Leben wartet. Nicht wartet, bereits da ist. \n",
    "Denn diese Herausforderungen, der ganze Prozess ist es, was mich wachsen lässt. Der Weg ist das Ziel. \n",
    "Das ist das Schöne daran, man setzt sich zwar große Ziele, gibt alles um sie zu erreichen, und erreicht sie auch eines Tages, doch glücklich ist man von Tag 1 weg. \n",
    "Der ganze Weg, all das, was man lernt, das ist das Ziel. \n",
    "All die Erfahrungen und Erlebnisse sind die Gründe, warum man es macht. \n",
    "Es ist Zeit meine Energie zu bündeln und auf einen Punkt auszurichten. Und dieser Punkt wird mein Purpose.\n",
    "\"\"\"\n",
    "\n",
    "text_2 = f\"\"\"Vor allem die Situation jetzt zeigt mir wieder, wie wichtig Dinge im realen Leben sind. \n",
    "Mehr darauf konzentrieren etwas aufzubauen anstatt nur darauf zu hoffen durch investieren reich zu werden. \n",
    "Und was bleibt? \n",
    "Naja ich habe trotzdem noch eine Summe zur Verfügung, und auch im worst case wenn Bitcoin wieder auf 10k geht werde ich es überleben. \n",
    "Auch wenn ich wiedereinmal nichts aus dem Markt genommen habe, gibt es trotzdem wieder die Chance im Bärenmarkt groß zu investieren. \n",
    "Was wird kommen? Viele Alts werden zusammenbrechen und sich nie wieder erholen. \n",
    "Viele Projekte sind einfach zu hoch angepreist, vor allem wo noch wenig Wert dahinter steht. \n",
    "Das heißt in den nächsten Monaten heißt es auf ein wirkliches Tief zu warten und langfristige Projekte zu kaufen, wie Ethereum oder Avalanche. \n",
    "Projekte, bei denen Vertrauen da ist und die sich erholen werden. \n",
    "Vielleicht auch damit rechnen, dass sich der Cycle diesesmal nicht ganz so verhält wie letztes Mal. \n",
    "Die Frage ist nur, wieviel Bullshit ist noch im Markt? \n",
    "Wieviele Leute investieren noch weil sie glauben, das große Vermögen machen zu können, sich aber nicht im Markt auskennen. \n",
    "Was wenn etwas mit Tether passiert?\n",
    "Fokus also jetzt: Top Projekte akkumulieren und im nächsten Jahr auf einen Bullrun im Gamingbereich abzielen.\n",
    "\"\"\"\n",
    "\n",
    "text_3 = f\"\"\"Ich fühle mich relativ oft gestresst. \n",
    "Gestresst nicht alles auf die Reihe zu bekommen, obwohl ich derzeit kaum Kurse an der Uni mache, oder zumindest nicht soviel wie normal. \n",
    "Und ich bringe einfach am Tag nicht meine 8 Stunden lernen zusammen, nicht mal in den seltensten Fällen. \n",
    "Warum? Wo geht die Zeit hin? Und trotzdem bräuchte ich noch viel mehr für alles andere. \n",
    "Ich habe heute weder etwas für den LifePurpose Kurs, noch etwas fürs Playbook gemacht. \n",
    "Und heute ist bereits Dienstag. Ich komme mir vor als brenne ich aus. \n",
    "Wozu sicher auch die Cryptos und meine Finanzen beitragen. \n",
    "Selber Fehler auch diesesmal wieder, einfach kein Geld rausgenommen, sondern zu 100% in Crypto. \n",
    "Warum schreibe ich mir nicht einfach mal die Learnings zusammen und halte mich daran? \n",
    "Bestes Beispiel auch letzte Woche wieder mit Kyber Network, rauf über 5$ und ich verkaufe keinen Cent. \n",
    "Warum? Einerseits Faulheit, der Aufwand dahinter, andererseits auch die Chance noch weiter zu gehen. \n",
    "Doch er hat schon soviel % in kurzer Zeit gemacht, und ich wollte sowieso mehr in USDC. Fuck. \n",
    "Wenn ich immer danach gehandelt hätte, also zu den guten Zeitpunkten verkauft, dann hätte ich bereits mehr als die Million. \n",
    "Doch will ich mich so weiterkämpfen? Der ständige Kampf und das auf und ab, die ganzen Emotionen, vom Markt getrieben. \n",
    "Warum nicht halten und nur große Trades machen zu den Zeitpunkten wenn etwas überdurchschnittlich steigt oder überdurchschnittlich fällt? \n",
    "Wie kann ich mehr Learnings mitnehmen? Auch die Videos, die ich schaue mehr analysieren, mehr mitschreiben und merken, damit ich mich auch in Zukunft an diese Prinzipien richten kann.\n",
    "\"\"\"\n",
    "\n",
    "texts = [text, text_2, text_3]"
   ]
  },
  {
   "cell_type": "markdown",
   "id": "79e9d401",
   "metadata": {},
   "source": [
    "## Generate GPT output\n",
    "- Prompt anpassen, welche konkreten Daten will ich? \n",
    "- Output spezifizieren (JSON,...)\n",
    "\n",
    "\n",
    "! use either:\n",
    "- len(texts), texts[i] for texts above or \n",
    "- len(entries), entries[i] for CSV-file"
   ]
  },
  {
   "cell_type": "code",
   "execution_count": 169,
   "id": "07b07d30",
   "metadata": {},
   "outputs": [
    {
     "name": "stdout",
     "output_type": "stream",
     "text": [
      "0 {\"summary\": \"The author is feeling stressed and tired due to lack of sleep and constant thoughts about unfinished tasks.\", \"sentiment\": \"negative\", \"emotion\": \"anxiety\"} \n",
      "\n",
      "1 {\"summary\": \"The author feels better today after doing some relaxation exercises and getting better sleep, although their thoughts are still somewhat chaotic, they feel like they are slowly regaining control and have accomplished some tasks on their to-do list.\", \"sentiment\": \"positive\", \"emotion\": \"hopeful\"} \n",
      "\n",
      "2 {\"summary\": \"The author is proud of their productivity and energy, attributing it to relaxation exercises and being able to start a new project they've been looking forward to.\", \"sentiment\": \"positive\", \"emotion\": \"content\"} \n",
      "\n",
      "3 {\"summary\": \"The author is happy and grateful for having had a lot of energy in the past few days, which helped them tackle tasks they had been putting off and feel satisfied with their accomplishments.\", \"sentiment\": \"positive\", \"emotion\": \"contentment\"} \n",
      "\n",
      "4 {\"summary\": \"Heute ist ein guter Tag und ich fühle mich ausgeglichen und glücklich, nachdem ich gelernt habe, auf mich selbst zu achten und Zeit für Entspannung und Regeneration zu nehmen, und ich bin dankbar für alles, was ich erreicht habe und freue mich auf das, was noch kommt.\", \"sentiment\": \"positive\", \"emotion\": \"grateful\"} \n",
      "\n"
     ]
    }
   ],
   "source": [
    "daily_features = \"\"\n",
    "\n",
    "for i in range(len(entries)):\n",
    "    prompt = f\"\"\"\n",
    "    Your task is to perform the following actions:\n",
    "    1 - Summarize the text delimited by <> with 1 sentence.\n",
    "    2 - Sentiment\n",
    "    3 - One predominant emotion in the text\n",
    "\n",
    "    The output is a python dict that contains the following elements: summary, sentiment, emotion.\n",
    "\n",
    "    Use the following format for the output:\n",
    "    <dict with summary, sentiment and emotion>\n",
    "    Use double quotes for seperation.\n",
    "\n",
    "    Input text:\n",
    "    <{entries[i]}>\n",
    "    \"\"\"\n",
    "    response = get_completion(prompt)\n",
    "    print(i, response, \"\\n\")\n",
    "    daily_features = daily_features + response + \", \""
   ]
  },
  {
   "cell_type": "code",
   "execution_count": 173,
   "id": "c295104e",
   "metadata": {},
   "outputs": [],
   "source": [
    "# cut last 2 elements (\", \")\n",
    "daily_features = daily_features[:-2]"
   ]
  },
  {
   "cell_type": "code",
   "execution_count": 153,
   "id": "26c1b1d5",
   "metadata": {},
   "outputs": [
    {
     "name": "stdout",
     "output_type": "stream",
     "text": [
      "{\"summary\": \"It's time for a change, to become a warrior and face new challenges, to set goals and focus all energy on achieving them, because the journey itself is the goal and the experiences gained along the way are the reasons why it's worth it.\", \"sentiment\": \"positive\", \"emotions\": \"determination\"}\n"
     ]
    }
   ],
   "source": [
    "# testing with 1 entry\n",
    "\n",
    "prompt = f\"\"\"\n",
    "Your task is to perform the following actions:\n",
    "1 - Summarize the text delimited by <> with 1 sentence.\n",
    "2 - Sentiment\n",
    "3 - Predominant emotion in the text\n",
    "\n",
    "The output is a python dict that contains the following elements: summary, sentiment, emotions.\n",
    "\n",
    "Use the following format for the output:\n",
    "<dict with summary, sentiment and emotion>\n",
    "Use double quotes for seperation.\n",
    "\n",
    "Input text:\n",
    "<{text}>\n",
    "\"\"\"\n",
    "response = get_completion(prompt)\n",
    "print(response)"
   ]
  },
  {
   "cell_type": "markdown",
   "id": "f8d4a860",
   "metadata": {},
   "source": [
    "## Read in output\n",
    "- string formatting as JSON object -> into python dict\n",
    "- then pd.DataFrame\n",
    "\n",
    "! Assuming string is properly formatted ! Otherwise preprocessing needed\n"
   ]
  },
  {
   "cell_type": "code",
   "execution_count": 151,
   "id": "94624064",
   "metadata": {},
   "outputs": [],
   "source": [
    "import json"
   ]
  },
  {
   "cell_type": "code",
   "execution_count": 174,
   "id": "a3ad1dd6",
   "metadata": {},
   "outputs": [
    {
     "data": {
      "text/plain": [
       "'{\"summary\": \"The author is feeling stressed and tired due to lack of sleep and constant thoughts about unfinished tasks.\", \"sentiment\": \"negative\", \"emotion\": \"anxiety\"}, {\"summary\": \"The author feels better today after doing some relaxation exercises and getting better sleep, although their thoughts are still somewhat chaotic, they feel like they are slowly regaining control and have accomplished some tasks on their to-do list.\", \"sentiment\": \"positive\", \"emotion\": \"hopeful\"}, {\"summary\": \"The author is proud of their productivity and energy, attributing it to relaxation exercises and being able to start a new project they\\'ve been looking forward to.\", \"sentiment\": \"positive\", \"emotion\": \"content\"}, {\"summary\": \"The author is happy and grateful for having had a lot of energy in the past few days, which helped them tackle tasks they had been putting off and feel satisfied with their accomplishments.\", \"sentiment\": \"positive\", \"emotion\": \"contentment\"}, {\"summary\": \"Heute ist ein guter Tag und ich fühle mich ausgeglichen und glücklich, nachdem ich gelernt habe, auf mich selbst zu achten und Zeit für Entspannung und Regeneration zu nehmen, und ich bin dankbar für alles, was ich erreicht habe und freue mich auf das, was noch kommt.\", \"sentiment\": \"positive\", \"emotion\": \"grateful\"}'"
      ]
     },
     "execution_count": 174,
     "metadata": {},
     "output_type": "execute_result"
    }
   ],
   "source": [
    "# output from GPT\n",
    "daily_features"
   ]
  },
  {
   "cell_type": "code",
   "execution_count": 175,
   "id": "270d5439",
   "metadata": {},
   "outputs": [
    {
     "data": {
      "text/plain": [
       "[{'summary': 'The author is feeling stressed and tired due to lack of sleep and constant thoughts about unfinished tasks.',\n",
       "  'sentiment': 'negative',\n",
       "  'emotion': 'anxiety'},\n",
       " {'summary': 'The author feels better today after doing some relaxation exercises and getting better sleep, although their thoughts are still somewhat chaotic, they feel like they are slowly regaining control and have accomplished some tasks on their to-do list.',\n",
       "  'sentiment': 'positive',\n",
       "  'emotion': 'hopeful'},\n",
       " {'summary': \"The author is proud of their productivity and energy, attributing it to relaxation exercises and being able to start a new project they've been looking forward to.\",\n",
       "  'sentiment': 'positive',\n",
       "  'emotion': 'content'},\n",
       " {'summary': 'The author is happy and grateful for having had a lot of energy in the past few days, which helped them tackle tasks they had been putting off and feel satisfied with their accomplishments.',\n",
       "  'sentiment': 'positive',\n",
       "  'emotion': 'contentment'},\n",
       " {'summary': 'Heute ist ein guter Tag und ich fühle mich ausgeglichen und glücklich, nachdem ich gelernt habe, auf mich selbst zu achten und Zeit für Entspannung und Regeneration zu nehmen, und ich bin dankbar für alles, was ich erreicht habe und freue mich auf das, was noch kommt.',\n",
       "  'sentiment': 'positive',\n",
       "  'emotion': 'grateful'}]"
      ]
     },
     "execution_count": 175,
     "metadata": {},
     "output_type": "execute_result"
    }
   ],
   "source": [
    "# Parse the string into a list of dictionaries\n",
    "output_from_gpt = json.loads(\"[\" + daily_features + \"]\")\n",
    "# output: list of dict\n",
    "output_from_gpt"
   ]
  },
  {
   "cell_type": "code",
   "execution_count": 176,
   "id": "1c0f691d",
   "metadata": {},
   "outputs": [
    {
     "name": "stdout",
     "output_type": "stream",
     "text": [
      "                                             summary sentiment      emotion\n",
      "0  The author is feeling stressed and tired due t...  negative      anxiety\n",
      "1  The author feels better today after doing some...  positive      hopeful\n",
      "2  The author is proud of their productivity and ...  positive      content\n",
      "3  The author is happy and grateful for having ha...  positive  contentment\n",
      "4  Heute ist ein guter Tag und ich fühle mich aus...  positive     grateful\n"
     ]
    }
   ],
   "source": [
    "# convert list of dictionaries into a pandas DataFrame\n",
    "df = pd.DataFrame(output_from_gpt)\n",
    "print(df)"
   ]
  },
  {
   "cell_type": "markdown",
   "id": "abdc9021",
   "metadata": {},
   "source": [
    "## Integrate into existing dataframe (concat), then save as CSV"
   ]
  },
  {
   "cell_type": "code",
   "execution_count": 201,
   "id": "0b8e0663",
   "metadata": {},
   "outputs": [
    {
     "data": {
      "text/html": [
       "<div>\n",
       "<style scoped>\n",
       "    .dataframe tbody tr th:only-of-type {\n",
       "        vertical-align: middle;\n",
       "    }\n",
       "\n",
       "    .dataframe tbody tr th {\n",
       "        vertical-align: top;\n",
       "    }\n",
       "\n",
       "    .dataframe thead th {\n",
       "        text-align: right;\n",
       "    }\n",
       "</style>\n",
       "<table border=\"1\" class=\"dataframe\">\n",
       "  <thead>\n",
       "    <tr style=\"text-align: right;\">\n",
       "      <th></th>\n",
       "      <th>Unnamed: 0</th>\n",
       "      <th>Date</th>\n",
       "      <th>Text</th>\n",
       "      <th>embedding</th>\n",
       "    </tr>\n",
       "  </thead>\n",
       "  <tbody>\n",
       "    <tr>\n",
       "      <th>0</th>\n",
       "      <td>0</td>\n",
       "      <td>2023.04.13</td>\n",
       "      <td>Heute ist ein anstrengender Tag. Ich fühle mic...</td>\n",
       "      <td>[-0.014236047863960266, 0.0029547708109021187,...</td>\n",
       "    </tr>\n",
       "    <tr>\n",
       "      <th>1</th>\n",
       "      <td>1</td>\n",
       "      <td>2023.04.13</td>\n",
       "      <td>keine Energie mehr habe und bin deshalb heute ...</td>\n",
       "      <td>[-0.017953980714082718, 0.0027130120433866978,...</td>\n",
       "    </tr>\n",
       "    <tr>\n",
       "      <th>2</th>\n",
       "      <td>2</td>\n",
       "      <td>2023.04.13</td>\n",
       "      <td>Ich hoffe, dass sich das bald ändert und ich w...</td>\n",
       "      <td>[2.779317946988158e-05, -0.017156608402729034,...</td>\n",
       "    </tr>\n",
       "    <tr>\n",
       "      <th>3</th>\n",
       "      <td>3</td>\n",
       "      <td>2023.04.14</td>\n",
       "      <td>Heute geht es mir schon etwas besser. Ich habe...</td>\n",
       "      <td>[-0.01159717608243227, 0.009939546696841717, 0...</td>\n",
       "    </tr>\n",
       "    <tr>\n",
       "      <th>4</th>\n",
       "      <td>4</td>\n",
       "      <td>2023.04.14</td>\n",
       "      <td>Ich habe heute auch schon ein paar Dinge von m...</td>\n",
       "      <td>[-0.006502807606011629, -0.004583686590194702,...</td>\n",
       "    </tr>\n",
       "  </tbody>\n",
       "</table>\n",
       "</div>"
      ],
      "text/plain": [
       "   Unnamed: 0        Date                                               Text  \\\n",
       "0           0  2023.04.13  Heute ist ein anstrengender Tag. Ich fühle mic...   \n",
       "1           1  2023.04.13  keine Energie mehr habe und bin deshalb heute ...   \n",
       "2           2  2023.04.13  Ich hoffe, dass sich das bald ändert und ich w...   \n",
       "3           3  2023.04.14  Heute geht es mir schon etwas besser. Ich habe...   \n",
       "4           4  2023.04.14  Ich habe heute auch schon ein paar Dinge von m...   \n",
       "\n",
       "                                           embedding  \n",
       "0  [-0.014236047863960266, 0.0029547708109021187,...  \n",
       "1  [-0.017953980714082718, 0.0027130120433866978,...  \n",
       "2  [2.779317946988158e-05, -0.017156608402729034,...  \n",
       "3  [-0.01159717608243227, 0.009939546696841717, 0...  \n",
       "4  [-0.006502807606011629, -0.004583686590194702,...  "
      ]
     },
     "execution_count": 201,
     "metadata": {},
     "output_type": "execute_result"
    }
   ],
   "source": [
    "data_embeddings.head()"
   ]
  },
  {
   "cell_type": "code",
   "execution_count": 202,
   "id": "2b327721",
   "metadata": {},
   "outputs": [
    {
     "data": {
      "text/html": [
       "<div>\n",
       "<style scoped>\n",
       "    .dataframe tbody tr th:only-of-type {\n",
       "        vertical-align: middle;\n",
       "    }\n",
       "\n",
       "    .dataframe tbody tr th {\n",
       "        vertical-align: top;\n",
       "    }\n",
       "\n",
       "    .dataframe thead th {\n",
       "        text-align: right;\n",
       "    }\n",
       "</style>\n",
       "<table border=\"1\" class=\"dataframe\">\n",
       "  <thead>\n",
       "    <tr style=\"text-align: right;\">\n",
       "      <th></th>\n",
       "      <th>Unnamed: 0</th>\n",
       "      <th>Date</th>\n",
       "      <th>Text</th>\n",
       "    </tr>\n",
       "  </thead>\n",
       "  <tbody>\n",
       "    <tr>\n",
       "      <th>0</th>\n",
       "      <td>0</td>\n",
       "      <td>2023.04.13</td>\n",
       "      <td>Heute ist ein anstrengender Tag. Ich fühle mic...</td>\n",
       "    </tr>\n",
       "    <tr>\n",
       "      <th>1</th>\n",
       "      <td>1</td>\n",
       "      <td>2023.04.14</td>\n",
       "      <td>Heute geht es mir schon etwas besser. Ich habe...</td>\n",
       "    </tr>\n",
       "    <tr>\n",
       "      <th>2</th>\n",
       "      <td>2</td>\n",
       "      <td>2023.04.15</td>\n",
       "      <td>Ich bin wirklich stolz auf mich, denn ich habe...</td>\n",
       "    </tr>\n",
       "    <tr>\n",
       "      <th>3</th>\n",
       "      <td>3</td>\n",
       "      <td>2023.04.16</td>\n",
       "      <td>Ich bin so froh, dass ich die letzten Tage so ...</td>\n",
       "    </tr>\n",
       "    <tr>\n",
       "      <th>4</th>\n",
       "      <td>4</td>\n",
       "      <td>2023.04.17</td>\n",
       "      <td>Heute ist ein guter Tag. Ich fühle mich ausgeg...</td>\n",
       "    </tr>\n",
       "  </tbody>\n",
       "</table>\n",
       "</div>"
      ],
      "text/plain": [
       "   Unnamed: 0        Date                                               Text\n",
       "0           0  2023.04.13  Heute ist ein anstrengender Tag. Ich fühle mic...\n",
       "1           1  2023.04.14  Heute geht es mir schon etwas besser. Ich habe...\n",
       "2           2  2023.04.15  Ich bin wirklich stolz auf mich, denn ich habe...\n",
       "3           3  2023.04.16  Ich bin so froh, dass ich die letzten Tage so ...\n",
       "4           4  2023.04.17  Heute ist ein guter Tag. Ich fühle mich ausgeg..."
      ]
     },
     "execution_count": 202,
     "metadata": {},
     "output_type": "execute_result"
    }
   ],
   "source": [
    "data_journals.head()"
   ]
  },
  {
   "cell_type": "code",
   "execution_count": 203,
   "id": "316670d6",
   "metadata": {},
   "outputs": [
    {
     "name": "stdout",
     "output_type": "stream",
     "text": [
      "Unnamed: 0\n",
      "Date\n",
      "Text\n"
     ]
    }
   ],
   "source": [
    "for col in data_journals.columns:\n",
    "    print(col)"
   ]
  },
  {
   "cell_type": "code",
   "execution_count": 204,
   "id": "a8839841",
   "metadata": {},
   "outputs": [
    {
     "data": {
      "text/html": [
       "<div>\n",
       "<style scoped>\n",
       "    .dataframe tbody tr th:only-of-type {\n",
       "        vertical-align: middle;\n",
       "    }\n",
       "\n",
       "    .dataframe tbody tr th {\n",
       "        vertical-align: top;\n",
       "    }\n",
       "\n",
       "    .dataframe thead th {\n",
       "        text-align: right;\n",
       "    }\n",
       "</style>\n",
       "<table border=\"1\" class=\"dataframe\">\n",
       "  <thead>\n",
       "    <tr style=\"text-align: right;\">\n",
       "      <th></th>\n",
       "      <th>Date</th>\n",
       "      <th>Text</th>\n",
       "    </tr>\n",
       "  </thead>\n",
       "  <tbody>\n",
       "    <tr>\n",
       "      <th>0</th>\n",
       "      <td>2023.04.13</td>\n",
       "      <td>Heute ist ein anstrengender Tag. Ich fühle mic...</td>\n",
       "    </tr>\n",
       "    <tr>\n",
       "      <th>1</th>\n",
       "      <td>2023.04.14</td>\n",
       "      <td>Heute geht es mir schon etwas besser. Ich habe...</td>\n",
       "    </tr>\n",
       "    <tr>\n",
       "      <th>2</th>\n",
       "      <td>2023.04.15</td>\n",
       "      <td>Ich bin wirklich stolz auf mich, denn ich habe...</td>\n",
       "    </tr>\n",
       "    <tr>\n",
       "      <th>3</th>\n",
       "      <td>2023.04.16</td>\n",
       "      <td>Ich bin so froh, dass ich die letzten Tage so ...</td>\n",
       "    </tr>\n",
       "    <tr>\n",
       "      <th>4</th>\n",
       "      <td>2023.04.17</td>\n",
       "      <td>Heute ist ein guter Tag. Ich fühle mich ausgeg...</td>\n",
       "    </tr>\n",
       "  </tbody>\n",
       "</table>\n",
       "</div>"
      ],
      "text/plain": [
       "         Date                                               Text\n",
       "0  2023.04.13  Heute ist ein anstrengender Tag. Ich fühle mic...\n",
       "1  2023.04.14  Heute geht es mir schon etwas besser. Ich habe...\n",
       "2  2023.04.15  Ich bin wirklich stolz auf mich, denn ich habe...\n",
       "3  2023.04.16  Ich bin so froh, dass ich die letzten Tage so ...\n",
       "4  2023.04.17  Heute ist ein guter Tag. Ich fühle mich ausgeg..."
      ]
     },
     "execution_count": 204,
     "metadata": {},
     "output_type": "execute_result"
    }
   ],
   "source": [
    "# delete 'Unnamed: 0' -> mistake in page_embeddings.py file?\n",
    "if data_journals.keys()[0] == 'Unnamed: 0':\n",
    "    del data_journals[data_journals.keys()[0]]\n",
    "\n",
    "data_journals.head()"
   ]
  },
  {
   "cell_type": "code",
   "execution_count": 205,
   "id": "aa4ba948",
   "metadata": {},
   "outputs": [
    {
     "data": {
      "text/html": [
       "<div>\n",
       "<style scoped>\n",
       "    .dataframe tbody tr th:only-of-type {\n",
       "        vertical-align: middle;\n",
       "    }\n",
       "\n",
       "    .dataframe tbody tr th {\n",
       "        vertical-align: top;\n",
       "    }\n",
       "\n",
       "    .dataframe thead th {\n",
       "        text-align: right;\n",
       "    }\n",
       "</style>\n",
       "<table border=\"1\" class=\"dataframe\">\n",
       "  <thead>\n",
       "    <tr style=\"text-align: right;\">\n",
       "      <th></th>\n",
       "      <th>Date</th>\n",
       "      <th>Text</th>\n",
       "      <th>summary</th>\n",
       "      <th>sentiment</th>\n",
       "      <th>emotion</th>\n",
       "    </tr>\n",
       "  </thead>\n",
       "  <tbody>\n",
       "    <tr>\n",
       "      <th>0</th>\n",
       "      <td>2023.04.13</td>\n",
       "      <td>Heute ist ein anstrengender Tag. Ich fühle mic...</td>\n",
       "      <td>The author is feeling stressed and tired due t...</td>\n",
       "      <td>negative</td>\n",
       "      <td>anxiety</td>\n",
       "    </tr>\n",
       "    <tr>\n",
       "      <th>1</th>\n",
       "      <td>2023.04.14</td>\n",
       "      <td>Heute geht es mir schon etwas besser. Ich habe...</td>\n",
       "      <td>The author feels better today after doing some...</td>\n",
       "      <td>positive</td>\n",
       "      <td>hopeful</td>\n",
       "    </tr>\n",
       "    <tr>\n",
       "      <th>2</th>\n",
       "      <td>2023.04.15</td>\n",
       "      <td>Ich bin wirklich stolz auf mich, denn ich habe...</td>\n",
       "      <td>The author is proud of their productivity and ...</td>\n",
       "      <td>positive</td>\n",
       "      <td>content</td>\n",
       "    </tr>\n",
       "    <tr>\n",
       "      <th>3</th>\n",
       "      <td>2023.04.16</td>\n",
       "      <td>Ich bin so froh, dass ich die letzten Tage so ...</td>\n",
       "      <td>The author is happy and grateful for having ha...</td>\n",
       "      <td>positive</td>\n",
       "      <td>contentment</td>\n",
       "    </tr>\n",
       "    <tr>\n",
       "      <th>4</th>\n",
       "      <td>2023.04.17</td>\n",
       "      <td>Heute ist ein guter Tag. Ich fühle mich ausgeg...</td>\n",
       "      <td>Heute ist ein guter Tag und ich fühle mich aus...</td>\n",
       "      <td>positive</td>\n",
       "      <td>grateful</td>\n",
       "    </tr>\n",
       "  </tbody>\n",
       "</table>\n",
       "</div>"
      ],
      "text/plain": [
       "         Date                                               Text  \\\n",
       "0  2023.04.13  Heute ist ein anstrengender Tag. Ich fühle mic...   \n",
       "1  2023.04.14  Heute geht es mir schon etwas besser. Ich habe...   \n",
       "2  2023.04.15  Ich bin wirklich stolz auf mich, denn ich habe...   \n",
       "3  2023.04.16  Ich bin so froh, dass ich die letzten Tage so ...   \n",
       "4  2023.04.17  Heute ist ein guter Tag. Ich fühle mich ausgeg...   \n",
       "\n",
       "                                             summary sentiment      emotion  \n",
       "0  The author is feeling stressed and tired due t...  negative      anxiety  \n",
       "1  The author feels better today after doing some...  positive      hopeful  \n",
       "2  The author is proud of their productivity and ...  positive      content  \n",
       "3  The author is happy and grateful for having ha...  positive  contentment  \n",
       "4  Heute ist ein guter Tag und ich fühle mich aus...  positive     grateful  "
      ]
     },
     "execution_count": 205,
     "metadata": {},
     "output_type": "execute_result"
    }
   ],
   "source": [
    "combined_df = pd.concat([data_journals, df], axis=1)\n",
    "combined_df"
   ]
  },
  {
   "cell_type": "code",
   "execution_count": 207,
   "id": "d9caf6a1",
   "metadata": {},
   "outputs": [],
   "source": [
    "# save as CSV\n",
    "combined_df.to_csv('DataFrame_Features.csv')"
   ]
  },
  {
   "cell_type": "code",
   "execution_count": null,
   "id": "c8884ec6",
   "metadata": {},
   "outputs": [],
   "source": []
  }
 ],
 "metadata": {
  "kernelspec": {
   "display_name": "Python 3 (ipykernel)",
   "language": "python",
   "name": "python3"
  },
  "language_info": {
   "codemirror_mode": {
    "name": "ipython",
    "version": 3
   },
   "file_extension": ".py",
   "mimetype": "text/x-python",
   "name": "python",
   "nbconvert_exporter": "python",
   "pygments_lexer": "ipython3",
   "version": "3.10.9"
  }
 },
 "nbformat": 4,
 "nbformat_minor": 5
}
